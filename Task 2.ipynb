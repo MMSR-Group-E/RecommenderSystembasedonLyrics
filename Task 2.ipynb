{
 "cells": [
  {
   "cell_type": "code",
   "execution_count": 1,
   "outputs": [],
   "source": [
    "import numpy as np\n",
    "import pandas as pd\n",
    "import os\n",
    "from sklearn.metrics.pairwise import cosine_similarity, manhattan_distances\n",
    "from tqdm import tqdm"
   ],
   "metadata": {
    "collapsed": false,
    "pycharm": {
     "name": "#%%\n"
    }
   }
  },
  {
   "cell_type": "code",
   "execution_count": 2,
   "outputs": [],
   "source": [
    "data_folder_path = \"task2\"\n",
    "\n",
    "\n",
    "# Load data\n",
    "def data_loader(path, folder=data_folder_path):\n",
    "    # Returns a tuple with all data needed: data in numpy, ids\n",
    "    df = pd.read_csv(os.path.join(data_folder_path, path), delimiter='\\t')\n",
    "\n",
    "    numpy_array = df.loc[:, df.columns != 'id'].to_numpy(\n",
    "        dtype=np.float16)  # we are taking float16 to reduce memory issues\n",
    "    return df['id'].to_numpy(), numpy_array[:, 1:]"
   ],
   "metadata": {
    "collapsed": false,
    "pycharm": {
     "name": "#%%\n"
    }
   }
  },
  {
   "cell_type": "code",
   "execution_count": 3,
   "outputs": [],
   "source": [
    "# Importing song metadata\n",
    "info_df = pd.read_csv(os.path.join(data_folder_path, \"id_information_mmsr.tsv\"), delimiter='\\t')\n",
    "genres_df = pd.read_csv(os.path.join(data_folder_path, \"id_genres_mmsr.tsv\"), delimiter='\\t')"
   ],
   "metadata": {
    "collapsed": false,
    "pycharm": {
     "name": "#%%\n"
    }
   }
  },
  {
   "cell_type": "code",
   "execution_count": null,
   "outputs": [],
   "source": [
    "# Considering the fact that the id's might not always be in order, we extract them.\n",
    "essentia_ids, essentia_array = data_loader(\"id_essentia_mmsr.tsv\")\n",
    "resnet_ids, resnet_array = data_loader(\"id_resnet_mmsr.tsv\")\n",
    "spectral_ids, spectral_array = data_loader(\"id_blf_spectral_mmsr.tsv\")\n",
    "mfcc_ids, mfcc_array = data_loader(\"id_mfcc_bow_mmsr.tsv\")"
   ],
   "metadata": {
    "collapsed": false,
    "pycharm": {
     "name": "#%%\n",
     "is_executing": true
    }
   }
  },
  {
   "cell_type": "code",
   "execution_count": null,
   "outputs": [],
   "source": [
    "# Importing the lyrics data\n",
    "tfidf_ids, tfidf_array = data_loader(\"id_lyrics_tf-idf_mmsr.tsv\")\n",
    "word2vec_ids, word2vec_array = data_loader(\"id_lyrics_word2vec_mmsr.tsv\")\n",
    "bert_ids, bert_array = data_loader(\"id_lyrics_bert_mmsr.tsv\")"
   ],
   "metadata": {
    "collapsed": false,
    "pycharm": {
     "name": "#%%\n",
     "is_executing": true
    }
   }
  },
  {
   "cell_type": "markdown",
   "source": [
    "# Introductory part on data anylsis\n",
    "Displaying: Most frequent genres, average number of genres per track, average number of tracks that share one genre..."
   ],
   "metadata": {
    "collapsed": false,
    "pycharm": {
     "name": "#%% md\n"
    }
   }
  },
  {
   "cell_type": "code",
   "execution_count": null,
   "outputs": [],
   "source": [
    "#display(\"Display singular genre songs and multiple genre songs\")\n",
    "#display(genres_df['genre'].apply(lambda x: ',' in x).value_counts())\n",
    "display(\"61025 songs have multiple genres, 7616 songs have only one genre\")\n",
    "\n",
    "\n",
    "# Calculate average genre size per track\n",
    "def average_genre_size(genres_df):\n",
    "    # Returns a list with the average genre size per track\n",
    "    genre_size = []\n",
    "    for genres in genres_df['genre']:\n",
    "        genre_size.append(len(genres.split(',')))\n",
    "    return genre_size\n",
    "\n",
    "\n",
    "display(\"Average number of genres per track\")\n",
    "np.mean(average_genre_size(genres_df))\n",
    "\n"
   ],
   "metadata": {
    "collapsed": false,
    "pycharm": {
     "name": "#%%\n",
     "is_executing": true
    }
   }
  },
  {
   "cell_type": "code",
   "execution_count": null,
   "outputs": [],
   "source": [
    "# Filter all genres which contain \"pop\"\n",
    "def get_most_frequent_genres(genres_df):\n",
    "    # Returns a dataframe with only pop genres\n",
    "    all_genres_sum = []\n",
    "    all_genres = []\n",
    "    for genres in genres_df['genre']:\n",
    "        for x in genres.split(\"'\"):\n",
    "            if (not (\"[\" in x or \"]\" in x or \",\" in x)):\n",
    "                if x in all_genres:\n",
    "                    all_genres_sum[all_genres.index(x)] += 1\n",
    "                else:\n",
    "                    all_genres.append(x)\n",
    "                    all_genres_sum.append(1)\n",
    "    return all_genres, all_genres_sum\n",
    "\n",
    "\n",
    "dict_genres, dict_genres_sum = get_most_frequent_genres(genres_df)\n",
    "\n",
    "pd.DataFrame({'genre': dict_genres, 'count': dict_genres_sum}).sort_values(by='count', ascending=False).head(20)[\n",
    "::-1].plot.barh(x='genre', y='count', title=\"Most frequent  genres\")\n",
    "pass"
   ],
   "metadata": {
    "collapsed": false,
    "pycharm": {
     "name": "#%%\n",
     "is_executing": true
    }
   }
  },
  {
   "cell_type": "markdown",
   "source": [
    "# Find out how many tracks approximately share one genre."
   ],
   "metadata": {
    "collapsed": false,
    "pycharm": {
     "name": "#%% md\n"
    }
   }
  },
  {
   "cell_type": "code",
   "execution_count": null,
   "outputs": [],
   "source": [
    "def get_genres_matrix(genres_df):\n",
    "    # Returns a dataframe with only pop genres\n",
    "    all_genres = []\n",
    "    for genres in genres_df['genre']:\n",
    "        for x in genres.split(\"'\"):\n",
    "            if not (\"[\" in x or \"]\" in x or \",\" in x):\n",
    "                if x not in all_genres:\n",
    "                    all_genres.append(x)\n",
    "\n",
    "    np_genres = np.zeros(shape=(len(genres_df), len(all_genres)))\n",
    "    # fill the matrix\n",
    "    for i, genres in enumerate(genres_df['genre']):\n",
    "        for x in genres.split(\"'\"):\n",
    "            if (not (\"[\" in x or \"]\" in x or \",\" in x)):\n",
    "                np_genres[i, all_genres.index(x)] = 1\n",
    "    return np_genres, all_genres\n",
    "\n",
    "\n",
    "genres_numbers, all_genres = get_genres_matrix(genres_df)\n",
    "display(\"Number of genres: \" + str(len(all_genres)))\n",
    "\n",
    "\n"
   ],
   "metadata": {
    "collapsed": false,
    "pycharm": {
     "name": "#%%\n",
     "is_executing": true
    }
   }
  },
  {
   "cell_type": "code",
   "execution_count": null,
   "outputs": [],
   "source": [
    "\n",
    "\n",
    "def find_similar_genres(genres_numbers):\n",
    "    # Find all columns which are 1 in the first row\n",
    "\n",
    "    top_similar = []\n",
    "    top_sums_values = []\n",
    "    for column in range(0, genres_numbers.shape[1]):\n",
    "        tmp_matrix = genres_numbers[genres_numbers[:, column] == 1]\n",
    "        sum_matrix = np.sum(tmp_matrix, axis=0)\n",
    "        # find biggest top_sum\n",
    "        top_tmp = np.argpartition(sum_matrix, -10)[-10:]\n",
    "        # We are sorting them and cutting the first value\n",
    "        top_tmp = top_tmp[np.argsort(sum_matrix[top_tmp])][::-1][1:]\n",
    "        top_sums_value = sum_matrix[top_tmp]\n",
    "        top_similar.append((column, top_tmp))\n",
    "        top_sums_values.append(top_sums_value)\n",
    "\n",
    "    return top_sums_values, top_similar\n",
    "\n",
    "\n",
    "# Display the top 3 genres which are most similar to the first genre\n",
    "a, b = find_similar_genres(genres_numbers)\n",
    "\n",
    "for i in range(0, genres_numbers.shape[1]):\n",
    "    print(\"Genre: \" + all_genres[i])\n",
    "    for j in range(0, 3):\n",
    "        print(\"Similar genre: \" + all_genres[b[i][1][j]] + \" with \" + str(a[i][j]) + \" tracks\")\n",
    "    print(\"\")\n",
    "\n",
    "\n"
   ],
   "metadata": {
    "collapsed": false,
    "pycharm": {
     "name": "#%%\n",
     "is_executing": true
    }
   }
  },
  {
   "cell_type": "markdown",
   "source": [
    "# Discussion:\n",
    "We can see, that most songs are dominated by the most popular genres. If you are in an \"unlikely\" genre, it is hard to recommend a similar songs, because there aren't that many similar."
   ],
   "metadata": {
    "collapsed": false,
    "pycharm": {
     "name": "#%% md\n"
    }
   }
  },
  {
   "cell_type": "markdown",
   "source": [
    "# Baseline with lyrics"
   ],
   "metadata": {
    "collapsed": false,
    "pycharm": {
     "name": "#%% md\n"
    }
   }
  },
  {
   "cell_type": "markdown",
   "source": [
    "Preprocessing to visualize."
   ],
   "metadata": {
    "collapsed": false,
    "pycharm": {
     "name": "#%% md\n"
    }
   }
  },
  {
   "cell_type": "code",
   "execution_count": null,
   "outputs": [],
   "source": [
    "from scipy import sparse\n",
    "\n",
    "\n",
    "# I imported my LSA solution from another notebook. For our case we do not need the u and sigma_inv.\n",
    "\n",
    "def LSA(matrix, k):\n",
    "    # calculate the svd\n",
    "    print(\"calculating svd, takes some time\")\n",
    "    u, s, vt = sparse.linalg.svds(matrix, k=k)\n",
    "    # create m x k matrix\n",
    "    s = np.diag(s)\n",
    "\n",
    "    return u, np.linalg.inv(s), vt.T\n",
    "\n",
    "\n",
    "def inference(matrix, u, sigma_inv):\n",
    "    return (sigma_inv @ u.T @ matrix.T).T\n",
    "\n",
    "\n",
    "u, sigma_inv_1, tf_idf_small = LSA(tfidf_array[:, 1:].astype(np.float32).T, 10)\n",
    "tf_idf_small = np.concatenate((tfidf_ids[:, None], tf_idf_small), axis=1)  #concatenate the id column again\n",
    "\n",
    "#u, sigma_inv_1, word2vec_small = LSA(word2vec_array[:, 1:].astype(np.float32).T, 10)\n",
    "#word2vec_small = np.concatenate((word2vec_ids[:, None], word2vec_small), axis=1)  #concatenate the id column again\n",
    "\n",
    "#u, sigma_inv_1, bert_small = LSA(bert_array[:, 1:].astype(np.float32).T, 10)\n",
    "#bert_small = np.concatenate((bert_ids[:, None], bert_small), axis=1)  #concatenate the id column again"
   ],
   "metadata": {
    "collapsed": false,
    "pycharm": {
     "name": "#%%\n",
     "is_executing": true
    }
   }
  },
  {
   "cell_type": "code",
   "execution_count": null,
   "outputs": [],
   "source": [
    "def filter_df(df, **args):\n",
    "    if not args:\n",
    "        raise AttributeError(\"**args required\")\n",
    "    query = ''\n",
    "    for k, v in args.items():\n",
    "        query += f\"{k}=='{v}' and \"\n",
    "    query = query[:-5]  # Removing the last 'and' of our query\n",
    "    return df.query(query)"
   ],
   "metadata": {
    "collapsed": false,
    "pycharm": {
     "name": "#%%\n",
     "is_executing": true
    }
   }
  },
  {
   "cell_type": "code",
   "execution_count": null,
   "outputs": [],
   "source": [
    "def get_genre(song_id_):\n",
    "    genre = genres_df[genres_df.id == song_id_][\"genre\"].values\n",
    "    return genre"
   ],
   "metadata": {
    "collapsed": false,
    "pycharm": {
     "name": "#%%\n",
     "is_executing": true
    }
   }
  },
  {
   "cell_type": "code",
   "execution_count": null,
   "outputs": [],
   "source": [
    "import ast\n",
    "\n",
    "\n",
    "def get_result_genre(song_ids_):\n",
    "    \"\"\"\n",
    "    Converts the list of ids to a usable result dataframe\n",
    "\n",
    "    :param song_ids_: list of ids\n",
    "    :return: dataframe with query_genre and similar_genres\n",
    "    \"\"\"\n",
    "    df = pd.DataFrame()\n",
    "    df[\"similar\"] = song_ids_\n",
    "    df[\"query_id\"] = [example_id for _ in range(len(df))]\n",
    "    df[\"query_genre\"] = df.query_id.apply(lambda x: ast.literal_eval(get_genre(x)[0])[0])\n",
    "    df[\"similar_genre\"] = df.similar.apply(lambda x: ast.literal_eval(get_genre(x)[0]))\n",
    "    # Calculate if the genre is in the query genre\n",
    "    df[\"similar_genre_value\"] = df[[\"query_genre\", \"similar_genre\"]].apply(\n",
    "        lambda x: 1 if x[\"query_genre\"] in x[\"similar_genre\"] else 0,\n",
    "        axis=1)\n",
    "    df.drop([\"similar\", \"query_id\"], axis=1, inplace=True)\n",
    "    df[\"query_genre_value\"] = [0 for _ in range(len(df))]\n",
    "    return df"
   ],
   "metadata": {
    "collapsed": false,
    "pycharm": {
     "name": "#%%\n",
     "is_executing": true
    }
   }
  },
  {
   "cell_type": "code",
   "execution_count": null,
   "outputs": [],
   "source": [
    "# usage:\n",
    "#   1. get query song id by using \"filter_df\" on merged info_df & embedding_df (filter by artist & song)\n",
    "#   2. call top_k_similar with song id from step 1\n",
    "\n",
    "def top_k_similar(id, embedding_array, k=None, similarity_measure=cosine_similarity):\n",
    "    \"\"\"\n",
    "    Return top k similar songs and their scores given an embedding and similarity meassure\n",
    "    :param  id: song id\n",
    "            embedding_array: embedding array to base similarities on\n",
    "            k: the number of most similar songs to return\n",
    "            similarity_measure: a function which returns the pairwise similarity of data points\n",
    "    :return: list of top k songs and their scores\n",
    "    \"\"\"\n",
    "    Y = embedding_array[embedding_array[:, 0] == id].reshape(1, -1)[:, 1:]\n",
    "    if Y.shape == (1, 0):\n",
    "        return None\n",
    "    similarities = similarity_measure(X=embedding_array[:, 1:],\n",
    "                                      Y=Y).reshape(-1)\n",
    "    most_similar = [[this_id, this_sim] for this_sim, this_id in sorted(zip(similarities, embedding_array[:, 0]))][::-1]\n",
    "    if k is None:\n",
    "        return most_similar[1:]\n",
    "    return most_similar[1:k + 1]"
   ],
   "metadata": {
    "collapsed": false,
    "pycharm": {
     "name": "#%%\n",
     "is_executing": true
    }
   }
  },
  {
   "cell_type": "markdown",
   "source": [
    "# Precision metrics"
   ],
   "metadata": {
    "collapsed": false,
    "pycharm": {
     "name": "#%% md\n"
    }
   }
  },
  {
   "cell_type": "code",
   "execution_count": null,
   "outputs": [],
   "source": [
    "def mean_reciprocal_rank(result_df, relevant_col=\"similar_genre\"):\n",
    "    \"\"\"\n",
    "    Calculates the mean reciprocal rank of the result dataframe\n",
    "\n",
    "    :param result_df: dataframe with query_genre and similar_genres\n",
    "    :return: mean reciprocal rank\n",
    "    \"\"\"\n",
    "    sum = 0\n",
    "    for i, row in result_df.iterrows():\n",
    "        counter = 0\n",
    "        for genre in row[relevant_col]:\n",
    "            counter += 1\n",
    "            if row[\"query_genre\"] == genre:\n",
    "                sum += 1 / counter\n",
    "                break\n",
    "\n",
    "    return sum / len(result_df)\n",
    "\n",
    "\n",
    "def precision(df, relevant_col=\"similar_genre_value\"):\n",
    "    \"\"\"\n",
    "    Calculates the r-precision of the result dataframe\n",
    "\n",
    "    :param df: dataframe with query_genre and similar_genres\n",
    "    \"\"\"\n",
    "    return df[relevant_col].sum() / len(df)\n",
    "\n",
    "\n",
    "# define ndcg function\n",
    "def ndcg(result_df, relevant_col=\"similar_genre_value\"):\n",
    "    \"\"\"\n",
    "    Calculates the ndcg score for a given result vector\n",
    "\n",
    "    :param result_vector: vector of results\n",
    "    :return: ndcg score\n",
    "    \"\"\"\n",
    "    # Calculate the dcg\n",
    "    dcg = 0\n",
    "    for i in range(len(result_df)):\n",
    "        dcg += result_df[relevant_col][i] / np.log2(i + 2)\n",
    "\n",
    "    # Calculate the idcg\n",
    "    idcg = 0\n",
    "    for i in range(len(result_df)):\n",
    "        idcg += 1 / np.log2(i + 2)\n",
    "    return dcg / idcg"
   ],
   "metadata": {
    "collapsed": false,
    "pycharm": {
     "name": "#%%\n",
     "is_executing": true
    }
   }
  },
  {
   "cell_type": "markdown",
   "source": [
    "# Framework"
   ],
   "metadata": {
    "collapsed": false,
    "pycharm": {
     "name": "#%% md\n"
    }
   }
  },
  {
   "cell_type": "code",
   "execution_count": null,
   "outputs": [],
   "source": [
    "# Because running all those functions is tedious we add a framework\n",
    "\n",
    "import time\n",
    "\n",
    "def recommender(artist=None, song=None, example_id=None, embedding_array=tf_idf_small, k=10,\n",
    "                similarity_measure=cosine_similarity,\n",
    "                only_stat=False):\n",
    "    \"\"\"\n",
    "    Framework to run the recommender system\n",
    "\n",
    "    :param example_artist: artist of the query song\n",
    "    :param example_song: song of the query song\n",
    "    :param k: number of similar songs\n",
    "    :param similarity_measure: similarity measure to use\n",
    "    :return: result dataframe\n",
    "    \"\"\"\n",
    "    # Filter the dataframe to get the song id\n",
    "    if example_id is None:\n",
    "        example_id = filter_df(info_df, artist=artist, song=song).to_numpy()[0, 0]\n",
    "    # Get the top k similar songs\n",
    "    similar_k = top_k_similar(example_id, embedding_array, k=k, similarity_measure=similarity_measure)\n",
    "\n",
    "    # IF the song is not in the embedding array return None\n",
    "    if similar_k == None:\n",
    "        return [0, 0, 0]\n",
    "    similar_id = list(next(zip(*similar_k)))\n",
    "    # Get the result dataframe\n",
    "    result = get_result_genre(similar_id)\n",
    "\n",
    "    if only_stat == True:\n",
    "        return np.array([precision(result), mean_reciprocal_rank(result), ndcg(result)])\n",
    "\n",
    "    stat = {\"precision\": precision(result),\n",
    "            \"mrr\": mean_reciprocal_rank(result),\n",
    "            \"ndcg\": ndcg(result)}\n",
    "\n",
    "    return result, stat, similar_id\n"
   ],
   "metadata": {
    "collapsed": false,
    "pycharm": {
     "name": "#%%\n",
     "is_executing": true
    }
   }
  },
  {
   "cell_type": "code",
   "execution_count": null,
   "outputs": [],
   "source": [
    "\n",
    "result, stat, similar_id = recommender(\"Elton John\", \"Nikita\", k=10, similarity_measure=cosine_similarity)\n",
    "print(stat)\n",
    "display(info_df.where(info_df.id.isin(similar_id)).dropna())"
   ],
   "metadata": {
    "collapsed": false,
    "pycharm": {
     "name": "#%%\n",
     "is_executing": true
    }
   }
  },
  {
   "cell_type": "code",
   "execution_count": null,
   "outputs": [],
   "source": [
    "def recommender_evaluation_framework(embedding_array=tf_idf_small, k=10, similarity_measure=cosine_similarity, breakpoint=False):\n",
    "    \"\"\"\n",
    "    Framework to evaluate the recommender system\n",
    "\n",
    "    :param k: number of similar songs\n",
    "    :param similarity_measure: similarity measure to use\n",
    "    :return: result dataframe\n",
    "    \"\"\"\n",
    "    stat = [0, 0, 0]\n",
    "    for index, row in tqdm(info_df.iterrows(), total=len(info_df)):\n",
    "        stat += recommender(example_id=row[\"id\"], embedding_array=embedding_array, k=k, similarity_measure=similarity_measure, only_stat=True)\n",
    "        if index == breakpoint:\n",
    "            return stat / breakpoint\n",
    "\n",
    "    return sum(stat) / len(info_df)"
   ],
   "metadata": {
    "collapsed": false,
    "pycharm": {
     "name": "#%%\n",
     "is_executing": true
    }
   }
  },
  {
   "cell_type": "markdown",
   "source": [
    "# Execution Part"
   ],
   "metadata": {
    "collapsed": false,
    "pycharm": {
     "name": "#%% md\n"
    }
   }
  },
  {
   "cell_type": "code",
   "execution_count": null,
   "outputs": [],
   "source": [
    "embedding_arrays = {\n",
    "    \"tf_idf_small\": tf_idf_small\n",
    "    #\"word2vec_small\": word2vec_small,\n",
    "    #\"bert_small\": bert_small\n",
    "}\n",
    "\n",
    "similarity_measures = {\n",
    "    \"cosine_similarity\": cosine_similarity,\n",
    "    \"manhattan_distances\": manhattan_distances,\n",
    "}\n",
    "\n",
    "result = []\n",
    "for embedding_array_name in embedding_arrays.keys():\n",
    "    for similarity_measure_name in similarity_measures.keys():\n",
    "        stat = [embedding_array_name, similarity_measure_name]\n",
    "        stat.extend(recommender_evaluation_framework(embedding_array=embedding_arrays[embedding_array_name],\n",
    "                                                     k=10,\n",
    "                                                     similarity_measure=similarity_measures[similarity_measure_name],\n",
    "                                                     breakpoint=300))\n",
    "        result.append(stat)\n",
    "result = pd.DataFrame(data=result, columns=[\"embedding\", \"smilarity_measure\", \"precision\", \"mmr\", \"ndcg\"])\n",
    "display(result)"
   ],
   "metadata": {
    "collapsed": false,
    "pycharm": {
     "name": "#%%\n",
     "is_executing": true
    }
   }
  },
  {
   "cell_type": "code",
   "execution_count": null,
   "outputs": [],
   "source": [],
   "metadata": {
    "collapsed": false,
    "pycharm": {
     "name": "#%%\n",
     "is_executing": true
    }
   }
  }
 ],
 "metadata": {
  "kernelspec": {
   "display_name": "Python 3 (ipykernel)",
   "language": "python",
   "name": "python3"
  },
  "language_info": {
   "codemirror_mode": {
    "name": "ipython",
    "version": 3
   },
   "file_extension": ".py",
   "mimetype": "text/x-python",
   "name": "python",
   "nbconvert_exporter": "python",
   "pygments_lexer": "ipython3",
   "version": "3.8.13"
  }
 },
 "nbformat": 4,
 "nbformat_minor": 5
}