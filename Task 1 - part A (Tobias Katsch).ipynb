{
 "cells": [
  {
   "cell_type": "code",
   "execution_count": 8,
   "id": "932cd550",
   "metadata": {
    "pycharm": {
     "name": "#%%\n"
    }
   },
   "outputs": [],
   "source": [
    "import numpy as np\n",
    "import pandas as pd\n",
    "import os\n",
    "from sklearn.metrics.pairwise import cosine_similarity"
   ]
  },
  {
   "cell_type": "code",
   "execution_count": 9,
   "id": "7ad194d7",
   "metadata": {
    "pycharm": {
     "name": "#%%\n"
    }
   },
   "outputs": [],
   "source": [
    "data_folder_path = \"data\""
   ]
  },
  {
   "cell_type": "code",
   "execution_count": 10,
   "id": "bb091974",
   "metadata": {
    "pycharm": {
     "name": "#%%\n"
    }
   },
   "outputs": [],
   "source": [
    "info_df = pd.read_csv(os.path.join(data_folder_path, \"id_information_mmsr.tsv\"), delimiter='\\t')\n",
    "genres_df = pd.read_csv(os.path.join(data_folder_path, \"id_genres_mmsr.tsv\"), delimiter='\\t')\n",
    "\n",
    "tfidf_df = pd.read_csv(os.path.join(data_folder_path, \"id_lyrics_tf-idf_mmsr.tsv\"), delimiter='\\t')\n",
    "tfidf_array = tfidf_df.to_numpy()\n",
    "\n",
    "word2vec_df = pd.read_csv(os.path.join(data_folder_path, \"id_lyrics_word2vec_mmsr.tsv\"), delimiter='\\t')\n",
    "word2vec_array = word2vec_df.to_numpy()\n",
    "\n",
    "bert_df = pd.read_csv(os.path.join(data_folder_path, \"id_bert_mmsr.tsv\"), delimiter='\\t')\n",
    "bert_array = bert_df.to_numpy()"
   ]
  },
  {
   "cell_type": "code",
   "execution_count": 11,
   "id": "d4fb671e",
   "metadata": {
    "pycharm": {
     "name": "#%%\n"
    }
   },
   "outputs": [
    {
     "data": {
      "text/plain": "                 id   artist            song         album_name\n1  0010xmHR6UICBOYT  Oddisee  After Thoughts  The Beauty in All",
      "text/html": "<div>\n<style scoped>\n    .dataframe tbody tr th:only-of-type {\n        vertical-align: middle;\n    }\n\n    .dataframe tbody tr th {\n        vertical-align: top;\n    }\n\n    .dataframe thead th {\n        text-align: right;\n    }\n</style>\n<table border=\"1\" class=\"dataframe\">\n  <thead>\n    <tr style=\"text-align: right;\">\n      <th></th>\n      <th>id</th>\n      <th>artist</th>\n      <th>song</th>\n      <th>album_name</th>\n    </tr>\n  </thead>\n  <tbody>\n    <tr>\n      <th>1</th>\n      <td>0010xmHR6UICBOYT</td>\n      <td>Oddisee</td>\n      <td>After Thoughts</td>\n      <td>The Beauty in All</td>\n    </tr>\n  </tbody>\n</table>\n</div>"
     },
     "metadata": {},
     "output_type": "display_data"
    },
    {
     "data": {
      "text/plain": "                 id    genre\n0  0009fFIM1eYThaPg  ['pop']",
      "text/html": "<div>\n<style scoped>\n    .dataframe tbody tr th:only-of-type {\n        vertical-align: middle;\n    }\n\n    .dataframe tbody tr th {\n        vertical-align: top;\n    }\n\n    .dataframe thead th {\n        text-align: right;\n    }\n</style>\n<table border=\"1\" class=\"dataframe\">\n  <thead>\n    <tr style=\"text-align: right;\">\n      <th></th>\n      <th>id</th>\n      <th>genre</th>\n    </tr>\n  </thead>\n  <tbody>\n    <tr>\n      <th>0</th>\n      <td>0009fFIM1eYThaPg</td>\n      <td>['pop']</td>\n    </tr>\n  </tbody>\n</table>\n</div>"
     },
     "metadata": {},
     "output_type": "display_data"
    },
    {
     "data": {
      "text/plain": "                 id  abl  accept  across  act  addict  afraid  age  ago   ah  \\\n0  9jbSytob9XRzwvB6  0.0     0.0     0.0  0.0     0.0     0.0  0.0  0.0  0.0   \n\n   ...  yea  yeah  year  yellow  yes  yesterday  yet   yo  young     youth  \n0  ...  0.0   0.0   0.0     0.0  0.0        0.0  0.0  0.0    0.0  0.150511  \n\n[1 rows x 1001 columns]",
      "text/html": "<div>\n<style scoped>\n    .dataframe tbody tr th:only-of-type {\n        vertical-align: middle;\n    }\n\n    .dataframe tbody tr th {\n        vertical-align: top;\n    }\n\n    .dataframe thead th {\n        text-align: right;\n    }\n</style>\n<table border=\"1\" class=\"dataframe\">\n  <thead>\n    <tr style=\"text-align: right;\">\n      <th></th>\n      <th>id</th>\n      <th>abl</th>\n      <th>accept</th>\n      <th>across</th>\n      <th>act</th>\n      <th>addict</th>\n      <th>afraid</th>\n      <th>age</th>\n      <th>ago</th>\n      <th>ah</th>\n      <th>...</th>\n      <th>yea</th>\n      <th>yeah</th>\n      <th>year</th>\n      <th>yellow</th>\n      <th>yes</th>\n      <th>yesterday</th>\n      <th>yet</th>\n      <th>yo</th>\n      <th>young</th>\n      <th>youth</th>\n    </tr>\n  </thead>\n  <tbody>\n    <tr>\n      <th>0</th>\n      <td>9jbSytob9XRzwvB6</td>\n      <td>0.0</td>\n      <td>0.0</td>\n      <td>0.0</td>\n      <td>0.0</td>\n      <td>0.0</td>\n      <td>0.0</td>\n      <td>0.0</td>\n      <td>0.0</td>\n      <td>0.0</td>\n      <td>...</td>\n      <td>0.0</td>\n      <td>0.0</td>\n      <td>0.0</td>\n      <td>0.0</td>\n      <td>0.0</td>\n      <td>0.0</td>\n      <td>0.0</td>\n      <td>0.0</td>\n      <td>0.0</td>\n      <td>0.150511</td>\n    </tr>\n  </tbody>\n</table>\n<p>1 rows × 1001 columns</p>\n</div>"
     },
     "metadata": {},
     "output_type": "display_data"
    },
    {
     "data": {
      "text/plain": "                 id         0         1         2         3         4  \\\n0  0LiOzxBZ1aPLlFsK  0.031109  0.018026  0.022785  0.028802 -0.026084   \n\n          5         6         7         8  ...       290       291       292  \\\n0 -0.006278  0.030599 -0.041043  0.036703  ... -0.025845  0.010468 -0.047819   \n\n       293       294       295       296       297     298       299  \n0  0.00562 -0.025106 -0.017939 -0.009981 -0.027846  0.0211 -0.020994  \n\n[1 rows x 301 columns]",
      "text/html": "<div>\n<style scoped>\n    .dataframe tbody tr th:only-of-type {\n        vertical-align: middle;\n    }\n\n    .dataframe tbody tr th {\n        vertical-align: top;\n    }\n\n    .dataframe thead th {\n        text-align: right;\n    }\n</style>\n<table border=\"1\" class=\"dataframe\">\n  <thead>\n    <tr style=\"text-align: right;\">\n      <th></th>\n      <th>id</th>\n      <th>0</th>\n      <th>1</th>\n      <th>2</th>\n      <th>3</th>\n      <th>4</th>\n      <th>5</th>\n      <th>6</th>\n      <th>7</th>\n      <th>8</th>\n      <th>...</th>\n      <th>290</th>\n      <th>291</th>\n      <th>292</th>\n      <th>293</th>\n      <th>294</th>\n      <th>295</th>\n      <th>296</th>\n      <th>297</th>\n      <th>298</th>\n      <th>299</th>\n    </tr>\n  </thead>\n  <tbody>\n    <tr>\n      <th>0</th>\n      <td>0LiOzxBZ1aPLlFsK</td>\n      <td>0.031109</td>\n      <td>0.018026</td>\n      <td>0.022785</td>\n      <td>0.028802</td>\n      <td>-0.026084</td>\n      <td>-0.006278</td>\n      <td>0.030599</td>\n      <td>-0.041043</td>\n      <td>0.036703</td>\n      <td>...</td>\n      <td>-0.025845</td>\n      <td>0.010468</td>\n      <td>-0.047819</td>\n      <td>0.00562</td>\n      <td>-0.025106</td>\n      <td>-0.017939</td>\n      <td>-0.009981</td>\n      <td>-0.027846</td>\n      <td>0.0211</td>\n      <td>-0.020994</td>\n    </tr>\n  </tbody>\n</table>\n<p>1 rows × 301 columns</p>\n</div>"
     },
     "metadata": {},
     "output_type": "display_data"
    },
    {
     "data": {
      "text/plain": "                 id         0         1         2       3         4         5  \\\n0  9jbSytob9XRzwvB6  0.009225  0.041393 -0.003659 -0.0305 -0.006346 -0.019719   \n\n          6         7         8  ...       758       759       760       761  \\\n0 -0.075958 -0.003737 -0.000486  ... -0.037228 -0.027013  0.029167  0.009537   \n\n        762       763       764       765       766       767  \n0 -0.010819  0.004054 -0.018671  0.012545  0.020696 -0.019794  \n\n[1 rows x 769 columns]",
      "text/html": "<div>\n<style scoped>\n    .dataframe tbody tr th:only-of-type {\n        vertical-align: middle;\n    }\n\n    .dataframe tbody tr th {\n        vertical-align: top;\n    }\n\n    .dataframe thead th {\n        text-align: right;\n    }\n</style>\n<table border=\"1\" class=\"dataframe\">\n  <thead>\n    <tr style=\"text-align: right;\">\n      <th></th>\n      <th>id</th>\n      <th>0</th>\n      <th>1</th>\n      <th>2</th>\n      <th>3</th>\n      <th>4</th>\n      <th>5</th>\n      <th>6</th>\n      <th>7</th>\n      <th>8</th>\n      <th>...</th>\n      <th>758</th>\n      <th>759</th>\n      <th>760</th>\n      <th>761</th>\n      <th>762</th>\n      <th>763</th>\n      <th>764</th>\n      <th>765</th>\n      <th>766</th>\n      <th>767</th>\n    </tr>\n  </thead>\n  <tbody>\n    <tr>\n      <th>0</th>\n      <td>9jbSytob9XRzwvB6</td>\n      <td>0.009225</td>\n      <td>0.041393</td>\n      <td>-0.003659</td>\n      <td>-0.0305</td>\n      <td>-0.006346</td>\n      <td>-0.019719</td>\n      <td>-0.075958</td>\n      <td>-0.003737</td>\n      <td>-0.000486</td>\n      <td>...</td>\n      <td>-0.037228</td>\n      <td>-0.027013</td>\n      <td>0.029167</td>\n      <td>0.009537</td>\n      <td>-0.010819</td>\n      <td>0.004054</td>\n      <td>-0.018671</td>\n      <td>0.012545</td>\n      <td>0.020696</td>\n      <td>-0.019794</td>\n    </tr>\n  </tbody>\n</table>\n<p>1 rows × 769 columns</p>\n</div>"
     },
     "metadata": {},
     "output_type": "display_data"
    }
   ],
   "source": [
    "display(info_df.iloc[1:2])\n",
    "display(genres_df.iloc[0:1])\n",
    "display(tfidf_df.iloc[0:1])\n",
    "display(word2vec_df.iloc[0:1])\n",
    "display(bert_df.iloc[0:1])"
   ]
  },
  {
   "cell_type": "markdown",
   "id": "9cae82fa",
   "metadata": {
    "pycharm": {
     "name": "#%% md\n"
    }
   },
   "source": [
    "In this first task, please implement a simple reusable(!) framework for text-based retrieval/similarity of music pieces (we will use the term “song” and “track” synonymously in the following). The input (query) is a song, more precisely its meta-data, i.e., artist and track name. The output of the system should be a list of songs that are similar to the query song. Throughout the practical part you will investigate various ways to define this similarity. For this first exercise, only consider textual representations of the song, in particular lyrics features (i.e., TF-IDF, word2vec, and BERT embeddings). Start with something simple (e.g., cosine similarity computed on TF-IDF vectors); and then add one additional variant (i.e., combination of song representation and similarity metric)."
   ]
  },
  {
   "cell_type": "code",
   "execution_count": 12,
   "id": "33852f9c",
   "metadata": {
    "pycharm": {
     "name": "#%%\n"
    }
   },
   "outputs": [],
   "source": [
    "def filter_df(df, **args):\n",
    "    if not args:\n",
    "        raise AttributeError(\"**args required\")\n",
    "    query = ''\n",
    "    for k, v in args.items():\n",
    "        query += f\"{k}=='{v}' and \"\n",
    "    query = query[:-5]  # Removing the last 'and' of our query\n",
    "    return df.query(query)"
   ]
  },
  {
   "cell_type": "code",
   "execution_count": 13,
   "id": "08218bd9",
   "metadata": {
    "pycharm": {
     "name": "#%%\n"
    }
   },
   "outputs": [],
   "source": [
    "example_artist = \"Cheryl\"\n",
    "example_song = \"Rain on Me\"\n",
    "example_embedding_df = bert_df\n",
    "example_embedding_array = bert_array"
   ]
  },
  {
   "cell_type": "code",
   "execution_count": 14,
   "id": "8c4c9e99",
   "metadata": {
    "pycharm": {
     "name": "#%%\n"
    }
   },
   "outputs": [
    {
     "name": "stdout",
     "output_type": "stream",
     "text": [
      "example_song found by artist='Cheryl' and song='Rain on Me' --> id='0009fFIM1eYThaPg'\n"
     ]
    }
   ],
   "source": [
    "example_id = filter_df(info_df, artist=example_artist, song=example_song).to_numpy()[0, 0]\n",
    "print(f\"example_song found by artist='{example_artist}' and song='{example_song}' --> id='{example_id}'\")"
   ]
  },
  {
   "cell_type": "code",
   "execution_count": 15,
   "id": "1e7181cb",
   "metadata": {
    "pycharm": {
     "name": "#%%\n"
    }
   },
   "outputs": [
    {
     "name": "stdout",
     "output_type": "stream",
     "text": [
      "avg_similarity (all songs): 0.3988439414994516\n"
     ]
    }
   ],
   "source": [
    "example_Y = filter_df(example_embedding_df, id=example_id).to_numpy().reshape(1, -1)\n",
    "cs = cosine_similarity(X=example_embedding_array[:, 1:], Y=example_Y[:, 1:])\n",
    "print(\"avg_similarity (all songs):\", np.mean(cs))"
   ]
  },
  {
   "cell_type": "code",
   "execution_count": 16,
   "id": "f7643497",
   "metadata": {
    "pycharm": {
     "name": "#%%\n"
    }
   },
   "outputs": [
    {
     "name": "stdout",
     "output_type": "stream",
     "text": [
      "similarities (within example_artist):\n",
      " [[1.        ]\n",
      " [0.45588829]\n",
      " [0.415266  ]\n",
      " [0.56247426]\n",
      " [0.52213525]\n",
      " [0.54025452]\n",
      " [0.58719805]\n",
      " [0.51434849]\n",
      " [0.48975459]\n",
      " [0.50849349]\n",
      " [0.40145441]\n",
      " [0.48441612]\n",
      " [0.45773557]\n",
      " [0.49066422]]\n"
     ]
    }
   ],
   "source": [
    "example_X = filter_df(info_df.merge(example_embedding_df), artist=example_artist).to_numpy()[:, 3:]\n",
    "cs = cosine_similarity(X=example_X[:, 1:], Y=example_Y[:, 1:])\n",
    "print(\"similarities (within example_artist):\\n\", cs)"
   ]
  },
  {
   "cell_type": "code",
   "execution_count": 20,
   "id": "a33136dd",
   "metadata": {
    "pycharm": {
     "name": "#%%\n"
    }
   },
   "outputs": [],
   "source": [
    "# usage: \n",
    "#   1. get query song id by using \"filter_df\" on merged info_df & embedding_df (filter by artist & song)\n",
    "#   2. call top_k_similar with song id from step 1 \n",
    "\n",
    "def top_k_similar(id, embedding_array, k=None, similarity_measure=cosine_similarity):\n",
    "    similarities = similarity_measure(X=embedding_array[:, 1:],\n",
    "                                      Y=embedding_array[embedding_array[:, 0] == id].reshape(1, -1)[:, 1:]).reshape(-1)\n",
    "    most_similar = [[this_id, this_sim] for this_sim, this_id in sorted(zip(similarities, embedding_array[:, 0]))][::-1]\n",
    "    if k is None:\n",
    "        return most_similar[1:]\n",
    "    return most_similar[1:k + 1]  # return top k but strip self"
   ]
  },
  {
   "cell_type": "code",
   "execution_count": 21,
   "id": "7cb2e7e4",
   "metadata": {
    "pycharm": {
     "name": "#%%\n"
    }
   },
   "outputs": [
    {
     "name": "stdout",
     "output_type": "stream",
     "text": [
      "[['WAFIWIziIPINi0MC', 0.8294106047397072], ['lbTW6YAzKbARhB59', 0.827303288201898], ['NGhsmk5BSCAoQijc', 0.8212638765322852], ['wXcMv63aWS4KEPm8', 0.8183482638952274], ['HFLuvJXc6SjcJt7d', 0.810907354243032], ['mWPcgcOpMTMcuYa7', 0.7921297632371401], ['Af926lrdYuaRdEQe', 0.7910895566674848], ['qmI07MLHa0lNsIIY', 0.7895209748498319], ['aY7VhvjZJ0vLZX5F', 0.7873939719128221], ['e6OyomkSZeHMNZOu', 0.7850501472782984]]\n"
     ]
    }
   ],
   "source": [
    "similar = top_k_similar(example_id, example_embedding_array, k=10, similarity_measure=cosine_similarity)\n",
    "print(similar)"
   ]
  },
  {
   "cell_type": "code",
   "execution_count": 22,
   "outputs": [],
   "source": [
    "similar_id = list(next(zip(*similar)))\n"
   ],
   "metadata": {
    "collapsed": false,
    "pycharm": {
     "name": "#%%\n"
    }
   }
  },
  {
   "cell_type": "code",
   "execution_count": 23,
   "outputs": [],
   "source": [
    "def get_genre(song_id_):\n",
    "    genre = genres_df[genres_df.id == song_id_][\"genre\"].values\n",
    "    return genre"
   ],
   "metadata": {
    "collapsed": false,
    "pycharm": {
     "name": "#%%\n"
    }
   }
  },
  {
   "cell_type": "code",
   "execution_count": 44,
   "outputs": [],
   "source": [
    "import ast\n",
    "\n",
    "\n",
    "def get_result_genre(song_ids_):\n",
    "    \"\"\"\n",
    "    Converts the list of ids to a usable result dataframe\n",
    "\n",
    "    :param song_ids_: list of ids\n",
    "    :return: dataframe with query_genre and similar_genres\n",
    "    \"\"\"\n",
    "    df = pd.DataFrame()\n",
    "    df[\"similar\"] = similar_id\n",
    "    df[\"query_id\"] = [example_id for _ in range(len(df))]\n",
    "    df[\"query_genre\"] = df.query_id.apply(lambda song_ids_: ast.literal_eval(get_genre(song_ids_)[0])[0])\n",
    "    df[\"similar_genre\"] = df.similar.apply(lambda song_ids_: ast.literal_eval(get_genre(song_ids_)[0]))\n",
    "    # Calculate if the genre is in the query genre\n",
    "    df[\"similar_genre_value\"] = df[[\"query_genre\", \"similar_genre\"]].apply(\n",
    "        lambda x: 1 if song_ids_[\"query_genre\"] in song_ids_[\"similar_genre\"] else 0,\n",
    "        axis=1)\n",
    "    df.drop([\"similar\", \"query_id\"], axis=1, inplace=True)\n",
    "    df[\"query_genre_value\"] = [0 for _ in range(len(df))]\n",
    "    return df\n",
    "\n"
   ],
   "metadata": {
    "collapsed": false,
    "pycharm": {
     "name": "#%%\n"
    }
   }
  },
  {
   "cell_type": "code",
   "execution_count": 45,
   "outputs": [],
   "source": [
    "result = get_result_genre(similar_id)"
   ],
   "metadata": {
    "collapsed": false,
    "pycharm": {
     "name": "#%%\n"
    }
   }
  },
  {
   "cell_type": "code",
   "execution_count": 46,
   "outputs": [],
   "source": [
    "\n",
    "def mean_reciprocal_rank(rs):\n",
    "    \"\"\"Score is reciprocal of the rank of the first relevant item\n",
    "    First element is 'rank 1'.  Relevance is binary (nonzero is relevant).\n",
    "    Example from http://en.wikipedia.org/wiki/Mean_reciprocal_rank\n",
    "    >>> rs = [[0, 0, 1], [0, 1, 0], [1, 0, 0]]\n",
    "    >>> mean_reciprocal_rank(rs)\n",
    "    0.61111111111111105\n",
    "    >>> rs = np.array([[0, 0, 0], [0, 1, 0], [1, 0, 0]])\n",
    "    >>> mean_reciprocal_rank(rs)\n",
    "    0.5\n",
    "    >>> rs = [[0, 0, 0, 1], [1, 0, 0], [1, 0, 0]]\n",
    "    >>> mean_reciprocal_rank(rs)\n",
    "    0.75\n",
    "    Args:\n",
    "        rs: Iterator of relevance scores (list or numpy) in rank order\n",
    "            (first element is the first item)\n",
    "    Returns:\n",
    "        Mean reciprocal rank\n",
    "    \"\"\"\n",
    "    rs = (np.asarray(r).nonzero()[0] for r in rs)\n",
    "    return np.mean([1. / (r[0] + 1) if r.size else 0. for r in rs])\n",
    "\n",
    "\n"
   ],
   "metadata": {
    "collapsed": false,
    "pycharm": {
     "name": "#%%\n"
    }
   }
  },
  {
   "cell_type": "code",
   "execution_count": null,
   "outputs": [],
   "source": [
    "def r_precision(r):\n",
    "    \"\"\"Score is precision after all relevant documents have been retrieved\n",
    "    Relevance is binary (nonzero is relevant).\n",
    "    >>> r = [0, 0, 1]\n",
    "    >>> r_precision(r)\n",
    "    0.33333333333333331\n",
    "    >>> r = [0, 1, 0]\n",
    "    >>> r_precision(r)\n",
    "    0.5\n",
    "    >>> r = [1, 0, 0]\n",
    "    >>> r_precision(r)\n",
    "    1.0\n",
    "    Args:\n",
    "        r: Relevance scores (list or numpy) in rank order\n",
    "            (first element is the first item)\n",
    "    Returns:\n",
    "        R Precision\n",
    "    \"\"\"\n",
    "    r = np.asarray(r) != 0\n",
    "    z = r.nonzero()[0]\n",
    "    if not z.size:\n",
    "        return 0.\n",
    "    return np.mean(r[:z[-1] + 1])"
   ],
   "metadata": {
    "collapsed": false,
    "pycharm": {
     "name": "#%%\n"
    }
   }
  },
  {
   "cell_type": "code",
   "execution_count": 55,
   "outputs": [],
   "source": [
    "# define ndcg function\n",
    "def ndcg(result_df, relevant_col=\"similar_genre_value\"):\n",
    "    \"\"\"\n",
    "    Calculates the ndcg score for a given result vector\n",
    "\n",
    "    :param result_vector: vector of results\n",
    "    :return: ndcg score\n",
    "    \"\"\"\n",
    "    # Calculate the dcg\n",
    "    dcg = 0\n",
    "    for i in range(len(result_df)):\n",
    "        dcg += result_df[relevant_col][i] / np.log2(i + 2)\n",
    "\n",
    "    # Calculate the idcg\n",
    "    idcg = 0\n",
    "    for i in range(len(result_df)):\n",
    "        idcg += 1 / np.log2(i + 2)\n",
    "    return dcg / idcg\n"
   ],
   "metadata": {
    "collapsed": false,
    "pycharm": {
     "name": "#%%\n"
    }
   }
  },
  {
   "cell_type": "code",
   "execution_count": 56,
   "outputs": [
    {
     "name": "stdout",
     "output_type": "stream",
     "text": [
      "precision: 0.8\n",
      "ndcg: 0.8236998933965709\n"
     ]
    }
   ],
   "source": [
    "print(\"precision:\", r_precision(result[\"similar_genre_value\"]))\n",
    "print(\"ndcg:\", ndcg(result))"
   ],
   "metadata": {
    "collapsed": false,
    "pycharm": {
     "name": "#%%\n"
    }
   }
  },
  {
   "cell_type": "code",
   "execution_count": null,
   "outputs": [],
   "source": [],
   "metadata": {
    "collapsed": false,
    "pycharm": {
     "name": "#%%\n"
    }
   }
  }
 ],
 "metadata": {
  "kernelspec": {
   "display_name": "Python 3 (ipykernel)",
   "language": "python",
   "name": "python3"
  },
  "language_info": {
   "codemirror_mode": {
    "name": "ipython",
    "version": 3
   },
   "file_extension": ".py",
   "mimetype": "text/x-python",
   "name": "python",
   "nbconvert_exporter": "python",
   "pygments_lexer": "ipython3",
   "version": "3.8.13"
  }
 },
 "nbformat": 4,
 "nbformat_minor": 5
}