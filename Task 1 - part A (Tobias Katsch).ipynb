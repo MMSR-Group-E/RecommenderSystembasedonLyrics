{
 "cells": [
  {
   "cell_type": "code",
   "execution_count": 1,
   "id": "932cd550",
   "metadata": {},
   "outputs": [],
   "source": [
    "import numpy as np\n",
    "import pandas as pd\n",
    "import os\n",
    "from sklearn.metrics.pairwise import cosine_similarity"
   ]
  },
  {
   "cell_type": "code",
   "execution_count": 2,
   "id": "7ad194d7",
   "metadata": {},
   "outputs": [],
   "source": [
    "data_folder_path = \"MMSR_WT22_Task1_Data\""
   ]
  },
  {
   "cell_type": "code",
   "execution_count": 3,
   "id": "bb091974",
   "metadata": {},
   "outputs": [],
   "source": [
    "info_df = pd.read_csv(os.path.join(data_folder_path, \"id_information_mmsr.tsv\"), delimiter='\\t')\n",
    "genres_df = pd.read_csv(os.path.join(data_folder_path, \"id_genres_mmsr.tsv\"), delimiter='\\t')\n",
    "\n",
    "tfidf_df = pd.read_csv(os.path.join(data_folder_path, \"id_lyrics_tf-idf_mmsr.tsv\"), delimiter='\\t')\n",
    "tfidf_array = tfidf_df.to_numpy()\n",
    "\n",
    "word2vec_df = pd.read_csv(os.path.join(data_folder_path, \"id_lyrics_word2vec_mmsr.tsv\"), delimiter='\\t')\n",
    "word2vec_array = word2vec_df.to_numpy()\n",
    "\n",
    "bert_df = pd.read_csv(os.path.join(data_folder_path, \"id_bert_mmsr.tsv\"), delimiter='\\t')\n",
    "bert_array = bert_df.to_numpy()"
   ]
  },
  {
   "cell_type": "code",
   "execution_count": 4,
   "id": "d4fb671e",
   "metadata": {},
   "outputs": [
    {
     "data": {
      "text/html": [
       "<div>\n",
       "<style scoped>\n",
       "    .dataframe tbody tr th:only-of-type {\n",
       "        vertical-align: middle;\n",
       "    }\n",
       "\n",
       "    .dataframe tbody tr th {\n",
       "        vertical-align: top;\n",
       "    }\n",
       "\n",
       "    .dataframe thead th {\n",
       "        text-align: right;\n",
       "    }\n",
       "</style>\n",
       "<table border=\"1\" class=\"dataframe\">\n",
       "  <thead>\n",
       "    <tr style=\"text-align: right;\">\n",
       "      <th></th>\n",
       "      <th>id</th>\n",
       "      <th>artist</th>\n",
       "      <th>song</th>\n",
       "      <th>album_name</th>\n",
       "    </tr>\n",
       "  </thead>\n",
       "  <tbody>\n",
       "    <tr>\n",
       "      <th>1</th>\n",
       "      <td>0010xmHR6UICBOYT</td>\n",
       "      <td>Oddisee</td>\n",
       "      <td>After Thoughts</td>\n",
       "      <td>The Beauty in All</td>\n",
       "    </tr>\n",
       "  </tbody>\n",
       "</table>\n",
       "</div>"
      ],
      "text/plain": [
       "                 id   artist            song         album_name\n",
       "1  0010xmHR6UICBOYT  Oddisee  After Thoughts  The Beauty in All"
      ]
     },
     "metadata": {},
     "output_type": "display_data"
    },
    {
     "data": {
      "text/html": [
       "<div>\n",
       "<style scoped>\n",
       "    .dataframe tbody tr th:only-of-type {\n",
       "        vertical-align: middle;\n",
       "    }\n",
       "\n",
       "    .dataframe tbody tr th {\n",
       "        vertical-align: top;\n",
       "    }\n",
       "\n",
       "    .dataframe thead th {\n",
       "        text-align: right;\n",
       "    }\n",
       "</style>\n",
       "<table border=\"1\" class=\"dataframe\">\n",
       "  <thead>\n",
       "    <tr style=\"text-align: right;\">\n",
       "      <th></th>\n",
       "      <th>id</th>\n",
       "      <th>genre</th>\n",
       "    </tr>\n",
       "  </thead>\n",
       "  <tbody>\n",
       "    <tr>\n",
       "      <th>0</th>\n",
       "      <td>0009fFIM1eYThaPg</td>\n",
       "      <td>['pop']</td>\n",
       "    </tr>\n",
       "  </tbody>\n",
       "</table>\n",
       "</div>"
      ],
      "text/plain": [
       "                 id    genre\n",
       "0  0009fFIM1eYThaPg  ['pop']"
      ]
     },
     "metadata": {},
     "output_type": "display_data"
    },
    {
     "data": {
      "text/html": [
       "<div>\n",
       "<style scoped>\n",
       "    .dataframe tbody tr th:only-of-type {\n",
       "        vertical-align: middle;\n",
       "    }\n",
       "\n",
       "    .dataframe tbody tr th {\n",
       "        vertical-align: top;\n",
       "    }\n",
       "\n",
       "    .dataframe thead th {\n",
       "        text-align: right;\n",
       "    }\n",
       "</style>\n",
       "<table border=\"1\" class=\"dataframe\">\n",
       "  <thead>\n",
       "    <tr style=\"text-align: right;\">\n",
       "      <th></th>\n",
       "      <th>id</th>\n",
       "      <th>abl</th>\n",
       "      <th>accept</th>\n",
       "      <th>across</th>\n",
       "      <th>act</th>\n",
       "      <th>addict</th>\n",
       "      <th>afraid</th>\n",
       "      <th>age</th>\n",
       "      <th>ago</th>\n",
       "      <th>ah</th>\n",
       "      <th>...</th>\n",
       "      <th>yea</th>\n",
       "      <th>yeah</th>\n",
       "      <th>year</th>\n",
       "      <th>yellow</th>\n",
       "      <th>yes</th>\n",
       "      <th>yesterday</th>\n",
       "      <th>yet</th>\n",
       "      <th>yo</th>\n",
       "      <th>young</th>\n",
       "      <th>youth</th>\n",
       "    </tr>\n",
       "  </thead>\n",
       "  <tbody>\n",
       "    <tr>\n",
       "      <th>0</th>\n",
       "      <td>9jbSytob9XRzwvB6</td>\n",
       "      <td>0.0</td>\n",
       "      <td>0.0</td>\n",
       "      <td>0.0</td>\n",
       "      <td>0.0</td>\n",
       "      <td>0.0</td>\n",
       "      <td>0.0</td>\n",
       "      <td>0.0</td>\n",
       "      <td>0.0</td>\n",
       "      <td>0.0</td>\n",
       "      <td>...</td>\n",
       "      <td>0.0</td>\n",
       "      <td>0.0</td>\n",
       "      <td>0.0</td>\n",
       "      <td>0.0</td>\n",
       "      <td>0.0</td>\n",
       "      <td>0.0</td>\n",
       "      <td>0.0</td>\n",
       "      <td>0.0</td>\n",
       "      <td>0.0</td>\n",
       "      <td>0.150511</td>\n",
       "    </tr>\n",
       "  </tbody>\n",
       "</table>\n",
       "<p>1 rows × 1001 columns</p>\n",
       "</div>"
      ],
      "text/plain": [
       "                 id  abl  accept  across  act  addict  afraid  age  ago   ah  \\\n",
       "0  9jbSytob9XRzwvB6  0.0     0.0     0.0  0.0     0.0     0.0  0.0  0.0  0.0   \n",
       "\n",
       "   ...  yea  yeah  year  yellow  yes  yesterday  yet   yo  young     youth  \n",
       "0  ...  0.0   0.0   0.0     0.0  0.0        0.0  0.0  0.0    0.0  0.150511  \n",
       "\n",
       "[1 rows x 1001 columns]"
      ]
     },
     "metadata": {},
     "output_type": "display_data"
    },
    {
     "data": {
      "text/html": [
       "<div>\n",
       "<style scoped>\n",
       "    .dataframe tbody tr th:only-of-type {\n",
       "        vertical-align: middle;\n",
       "    }\n",
       "\n",
       "    .dataframe tbody tr th {\n",
       "        vertical-align: top;\n",
       "    }\n",
       "\n",
       "    .dataframe thead th {\n",
       "        text-align: right;\n",
       "    }\n",
       "</style>\n",
       "<table border=\"1\" class=\"dataframe\">\n",
       "  <thead>\n",
       "    <tr style=\"text-align: right;\">\n",
       "      <th></th>\n",
       "      <th>id</th>\n",
       "      <th>0</th>\n",
       "      <th>1</th>\n",
       "      <th>2</th>\n",
       "      <th>3</th>\n",
       "      <th>4</th>\n",
       "      <th>5</th>\n",
       "      <th>6</th>\n",
       "      <th>7</th>\n",
       "      <th>8</th>\n",
       "      <th>...</th>\n",
       "      <th>290</th>\n",
       "      <th>291</th>\n",
       "      <th>292</th>\n",
       "      <th>293</th>\n",
       "      <th>294</th>\n",
       "      <th>295</th>\n",
       "      <th>296</th>\n",
       "      <th>297</th>\n",
       "      <th>298</th>\n",
       "      <th>299</th>\n",
       "    </tr>\n",
       "  </thead>\n",
       "  <tbody>\n",
       "    <tr>\n",
       "      <th>0</th>\n",
       "      <td>0LiOzxBZ1aPLlFsK</td>\n",
       "      <td>0.031109</td>\n",
       "      <td>0.018026</td>\n",
       "      <td>0.022785</td>\n",
       "      <td>0.028802</td>\n",
       "      <td>-0.026084</td>\n",
       "      <td>-0.006278</td>\n",
       "      <td>0.030599</td>\n",
       "      <td>-0.041043</td>\n",
       "      <td>0.036703</td>\n",
       "      <td>...</td>\n",
       "      <td>-0.025845</td>\n",
       "      <td>0.010468</td>\n",
       "      <td>-0.047819</td>\n",
       "      <td>0.00562</td>\n",
       "      <td>-0.025106</td>\n",
       "      <td>-0.017939</td>\n",
       "      <td>-0.009981</td>\n",
       "      <td>-0.027846</td>\n",
       "      <td>0.0211</td>\n",
       "      <td>-0.020994</td>\n",
       "    </tr>\n",
       "  </tbody>\n",
       "</table>\n",
       "<p>1 rows × 301 columns</p>\n",
       "</div>"
      ],
      "text/plain": [
       "                 id         0         1         2         3         4  \\\n",
       "0  0LiOzxBZ1aPLlFsK  0.031109  0.018026  0.022785  0.028802 -0.026084   \n",
       "\n",
       "          5         6         7         8  ...       290       291       292  \\\n",
       "0 -0.006278  0.030599 -0.041043  0.036703  ... -0.025845  0.010468 -0.047819   \n",
       "\n",
       "       293       294       295       296       297     298       299  \n",
       "0  0.00562 -0.025106 -0.017939 -0.009981 -0.027846  0.0211 -0.020994  \n",
       "\n",
       "[1 rows x 301 columns]"
      ]
     },
     "metadata": {},
     "output_type": "display_data"
    },
    {
     "data": {
      "text/html": [
       "<div>\n",
       "<style scoped>\n",
       "    .dataframe tbody tr th:only-of-type {\n",
       "        vertical-align: middle;\n",
       "    }\n",
       "\n",
       "    .dataframe tbody tr th {\n",
       "        vertical-align: top;\n",
       "    }\n",
       "\n",
       "    .dataframe thead th {\n",
       "        text-align: right;\n",
       "    }\n",
       "</style>\n",
       "<table border=\"1\" class=\"dataframe\">\n",
       "  <thead>\n",
       "    <tr style=\"text-align: right;\">\n",
       "      <th></th>\n",
       "      <th>id</th>\n",
       "      <th>0</th>\n",
       "      <th>1</th>\n",
       "      <th>2</th>\n",
       "      <th>3</th>\n",
       "      <th>4</th>\n",
       "      <th>5</th>\n",
       "      <th>6</th>\n",
       "      <th>7</th>\n",
       "      <th>8</th>\n",
       "      <th>...</th>\n",
       "      <th>758</th>\n",
       "      <th>759</th>\n",
       "      <th>760</th>\n",
       "      <th>761</th>\n",
       "      <th>762</th>\n",
       "      <th>763</th>\n",
       "      <th>764</th>\n",
       "      <th>765</th>\n",
       "      <th>766</th>\n",
       "      <th>767</th>\n",
       "    </tr>\n",
       "  </thead>\n",
       "  <tbody>\n",
       "    <tr>\n",
       "      <th>0</th>\n",
       "      <td>9jbSytob9XRzwvB6</td>\n",
       "      <td>0.009225</td>\n",
       "      <td>0.041393</td>\n",
       "      <td>-0.003659</td>\n",
       "      <td>-0.0305</td>\n",
       "      <td>-0.006346</td>\n",
       "      <td>-0.019719</td>\n",
       "      <td>-0.075958</td>\n",
       "      <td>-0.003737</td>\n",
       "      <td>-0.000486</td>\n",
       "      <td>...</td>\n",
       "      <td>-0.037228</td>\n",
       "      <td>-0.027013</td>\n",
       "      <td>0.029167</td>\n",
       "      <td>0.009537</td>\n",
       "      <td>-0.010819</td>\n",
       "      <td>0.004054</td>\n",
       "      <td>-0.018671</td>\n",
       "      <td>0.012545</td>\n",
       "      <td>0.020696</td>\n",
       "      <td>-0.019794</td>\n",
       "    </tr>\n",
       "  </tbody>\n",
       "</table>\n",
       "<p>1 rows × 769 columns</p>\n",
       "</div>"
      ],
      "text/plain": [
       "                 id         0         1         2       3         4         5  \\\n",
       "0  9jbSytob9XRzwvB6  0.009225  0.041393 -0.003659 -0.0305 -0.006346 -0.019719   \n",
       "\n",
       "          6         7         8  ...       758       759       760       761  \\\n",
       "0 -0.075958 -0.003737 -0.000486  ... -0.037228 -0.027013  0.029167  0.009537   \n",
       "\n",
       "        762       763       764       765       766       767  \n",
       "0 -0.010819  0.004054 -0.018671  0.012545  0.020696 -0.019794  \n",
       "\n",
       "[1 rows x 769 columns]"
      ]
     },
     "metadata": {},
     "output_type": "display_data"
    }
   ],
   "source": [
    "display(info_df.iloc[1:2])\n",
    "display(genres_df.iloc[0:1])\n",
    "display(tfidf_df.iloc[0:1])\n",
    "display(word2vec_df.iloc[0:1])\n",
    "display(bert_df.iloc[0:1])"
   ]
  },
  {
   "cell_type": "markdown",
   "id": "9cae82fa",
   "metadata": {},
   "source": [
    "In this first task, please implement a simple reusable(!) framework for text-based retrieval/similarity of music pieces (we will use the term “song” and “track” synonymously in the following). The input (query) is a song, more precisely its meta-data, i.e., artist and track name. The output of the system should be a list of songs that are similar to the query song. Throughout the practical part you will investigate various ways to define this similarity. For this first exercise, only consider textual representations of the song, in particular lyrics features (i.e., TF-IDF, word2vec, and BERT embeddings). Start with something simple (e.g., cosine similarity computed on TF-IDF vectors); and then add one additional variant (i.e., combination of song representation and similarity metric)."
   ]
  },
  {
   "cell_type": "code",
   "execution_count": 5,
   "id": "68e00f9f",
   "metadata": {},
   "outputs": [
    {
     "data": {
      "text/plain": [
       "array([['9jbSytob9XRzwvB6', 0.0, 0.0, ..., 0.0, 0.0, 0.1505109354143906],\n",
       "       ['Njp6JPM8vitbhVJU', 0.0, 0.0, ..., 0.0, 0.0, 0.0],\n",
       "       ['h48f46ZsT9h0Z5Dm', 0.0, 0.0, ..., 0.0, 0.0, 0.0],\n",
       "       ...,\n",
       "       ['76qenAf8gYlH4pfq', 0.0, 0.0, ..., 0.0, 0.0, 0.0],\n",
       "       ['9F8jQjeibAuZinEP', 0.0, 0.0, ..., 0.0, 0.0, 0.0],\n",
       "       ['njEze6oZPy3MX2dN', 0.0, 0.0, ..., 0.0, 0.0, 0.0]], dtype=object)"
      ]
     },
     "execution_count": 5,
     "metadata": {},
     "output_type": "execute_result"
    }
   ],
   "source": [
    "tfidf_array"
   ]
  },
  {
   "cell_type": "code",
   "execution_count": 6,
   "id": "33852f9c",
   "metadata": {},
   "outputs": [],
   "source": [
    "# Similarity:\n",
    "#   1. load datasets --> pd\n",
    "#   2. extract vector: pd --> np (except alphanumerical id)\n",
    "#   3. pairwise similarity \n",
    "def filter_df(df, **args):\n",
    "    if not args: \n",
    "        raise AttributeError(\"**args required\")\n",
    "    query = ''\n",
    "    for k, v in args.items():\n",
    "        query += f\"{k}=='{v}' and \"\n",
    "    query = query[:-5]\n",
    "    return df.query(query)"
   ]
  },
  {
   "cell_type": "code",
   "execution_count": 7,
   "id": "48511579",
   "metadata": {},
   "outputs": [],
   "source": [
    "example_artist = \"Cheryl\"\n",
    "example_song = \"Rain on Me\"\n",
    "example_embedding_df = bert_df\n",
    "example_embedding_array = bert_array"
   ]
  },
  {
   "cell_type": "code",
   "execution_count": 8,
   "id": "77efb88f",
   "metadata": {},
   "outputs": [
    {
     "name": "stdout",
     "output_type": "stream",
     "text": [
      "example_song found by artist='Cheryl' and song='Rain on Me' --> id='0009fFIM1eYThaPg'\n"
     ]
    }
   ],
   "source": [
    "example_id = filter_df(info_df, artist=example_artist, song=example_song).to_numpy()[0, 0]\n",
    "print(f\"example_song found by artist='{example_artist}' and song='{example_song}' --> id='{example_id}'\")"
   ]
  },
  {
   "cell_type": "code",
   "execution_count": 9,
   "id": "6eb5969c",
   "metadata": {},
   "outputs": [
    {
     "name": "stdout",
     "output_type": "stream",
     "text": [
      "avg_similarity (all songs): 0.3988439414994516\n"
     ]
    }
   ],
   "source": [
    "example_Y = filter_df(example_embedding_df, id=example_id).to_numpy().reshape(1, -1)\n",
    "cs = cosine_similarity(X=example_embedding_array[:, 1:], Y=example_Y[:, 1:])\n",
    "print(\"avg_similarity (all songs):\", np.mean(cs))"
   ]
  },
  {
   "cell_type": "code",
   "execution_count": 10,
   "id": "31ed84e4",
   "metadata": {},
   "outputs": [
    {
     "name": "stdout",
     "output_type": "stream",
     "text": [
      "similarities (within example_artist):\n",
      " [[1.        ]\n",
      " [0.45588829]\n",
      " [0.415266  ]\n",
      " [0.56247426]\n",
      " [0.52213525]\n",
      " [0.54025452]\n",
      " [0.58719805]\n",
      " [0.51434849]\n",
      " [0.48975459]\n",
      " [0.50849349]\n",
      " [0.40145441]\n",
      " [0.48441612]\n",
      " [0.45773557]\n",
      " [0.49066422]]\n"
     ]
    }
   ],
   "source": [
    "example_X = filter_df(info_df.merge(example_embedding_df), artist=example_artist).to_numpy()[:, 3:]\n",
    "cs = cosine_similarity(X=example_X[:, 1:], Y=example_Y[:, 1:])\n",
    "print(\"similarities (within example_artist):\\n\", cs)"
   ]
  },
  {
   "cell_type": "code",
   "execution_count": 11,
   "id": "b5364e23",
   "metadata": {},
   "outputs": [],
   "source": [
    "def top_k_similar(id, embedding_array, k=None, similarity_measure=cosine_similarity):\n",
    "    similarities = similarity_measure(X=embedding_array[:, 1:], Y=embedding_array[embedding_array[:, 0]==id].reshape(1, -1)[:, 1:]).reshape(-1)\n",
    "    most_similar = [[this_id, this_sim] for this_sim, this_id in sorted(zip(similarities, embedding_array[:, 0]))][::-1]\n",
    "    if k is None:\n",
    "        return most_similar\n",
    "    return most_similar[1:k+1] # return top k but strip self"
   ]
  },
  {
   "cell_type": "code",
   "execution_count": 12,
   "id": "ccc4c001",
   "metadata": {},
   "outputs": [
    {
     "data": {
      "text/plain": [
       "[['WAFIWIziIPINi0MC', 0.8294106047397072],\n",
       " ['lbTW6YAzKbARhB59', 0.8273032882018981],\n",
       " ['NGhsmk5BSCAoQijc', 0.821263876532285],\n",
       " ['wXcMv63aWS4KEPm8', 0.8183482638952275],\n",
       " ['HFLuvJXc6SjcJt7d', 0.8109073542430318]]"
      ]
     },
     "execution_count": 12,
     "metadata": {},
     "output_type": "execute_result"
    }
   ],
   "source": [
    "top_k_similar(example_id, example_embedding_array, k=5, similarity_measure=cosine_similarity)"
   ]
  }
 ],
 "metadata": {
  "kernelspec": {
   "display_name": "Python 3 (ipykernel)",
   "language": "python",
   "name": "python3"
  },
  "language_info": {
   "codemirror_mode": {
    "name": "ipython",
    "version": 3
   },
   "file_extension": ".py",
   "mimetype": "text/x-python",
   "name": "python",
   "nbconvert_exporter": "python",
   "pygments_lexer": "ipython3",
   "version": "3.8.13"
  }
 },
 "nbformat": 4,
 "nbformat_minor": 5
}
