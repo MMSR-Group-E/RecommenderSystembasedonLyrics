{
 "cells": [
  {
   "cell_type": "code",
   "execution_count": 1,
   "outputs": [],
   "source": [
    "import numpy as np\n",
    "import pandas as pd\n",
    "import os\n",
    "from sklearn.metrics.pairwise import cosine_similarity, manhattan_distances\n",
    "from tqdm import tqdm"
   ],
   "metadata": {
    "collapsed": false,
    "pycharm": {
     "name": "#%%\n"
    }
   }
  },
  {
   "cell_type": "code",
   "execution_count": 2,
   "id": "7ad194d7",
   "metadata": {
    "pycharm": {
     "name": "#%%\n"
    }
   },
   "outputs": [],
   "source": [
    "data_folder_path = \"data\""
   ]
  },
  {
   "cell_type": "code",
   "execution_count": 3,
   "id": "bb091974",
   "metadata": {
    "pycharm": {
     "name": "#%%\n"
    }
   },
   "outputs": [],
   "source": [
    "info_df = pd.read_csv(os.path.join(data_folder_path, \"id_information_mmsr.tsv\"), delimiter='\\t')\n",
    "genres_df = pd.read_csv(os.path.join(data_folder_path, \"id_genres_mmsr.tsv\"), delimiter='\\t')\n",
    "\n",
    "tfidf_df = pd.read_csv(os.path.join(data_folder_path, \"id_lyrics_tf-idf_mmsr.tsv\"), delimiter='\\t')\n",
    "tfidf_array = tfidf_df.to_numpy()\n",
    "\n",
    "word2vec_df = pd.read_csv(os.path.join(data_folder_path, \"id_lyrics_word2vec_mmsr.tsv\"), delimiter='\\t')\n",
    "word2vec_array = word2vec_df.to_numpy()\n",
    "\n",
    "bert_df = pd.read_csv(os.path.join(data_folder_path, \"id_bert_mmsr.tsv\"), delimiter='\\t')\n",
    "bert_array = bert_df.to_numpy()"
   ]
  },
  {
   "cell_type": "code",
   "execution_count": 4,
   "id": "d4fb671e",
   "metadata": {
    "pycharm": {
     "name": "#%%\n"
    }
   },
   "outputs": [
    {
     "data": {
      "text/plain": "                 id   artist            song         album_name\n1  0010xmHR6UICBOYT  Oddisee  After Thoughts  The Beauty in All",
      "text/html": "<div>\n<style scoped>\n    .dataframe tbody tr th:only-of-type {\n        vertical-align: middle;\n    }\n\n    .dataframe tbody tr th {\n        vertical-align: top;\n    }\n\n    .dataframe thead th {\n        text-align: right;\n    }\n</style>\n<table border=\"1\" class=\"dataframe\">\n  <thead>\n    <tr style=\"text-align: right;\">\n      <th></th>\n      <th>id</th>\n      <th>artist</th>\n      <th>song</th>\n      <th>album_name</th>\n    </tr>\n  </thead>\n  <tbody>\n    <tr>\n      <th>1</th>\n      <td>0010xmHR6UICBOYT</td>\n      <td>Oddisee</td>\n      <td>After Thoughts</td>\n      <td>The Beauty in All</td>\n    </tr>\n  </tbody>\n</table>\n</div>"
     },
     "metadata": {},
     "output_type": "display_data"
    },
    {
     "data": {
      "text/plain": "                 id    genre\n0  0009fFIM1eYThaPg  ['pop']",
      "text/html": "<div>\n<style scoped>\n    .dataframe tbody tr th:only-of-type {\n        vertical-align: middle;\n    }\n\n    .dataframe tbody tr th {\n        vertical-align: top;\n    }\n\n    .dataframe thead th {\n        text-align: right;\n    }\n</style>\n<table border=\"1\" class=\"dataframe\">\n  <thead>\n    <tr style=\"text-align: right;\">\n      <th></th>\n      <th>id</th>\n      <th>genre</th>\n    </tr>\n  </thead>\n  <tbody>\n    <tr>\n      <th>0</th>\n      <td>0009fFIM1eYThaPg</td>\n      <td>['pop']</td>\n    </tr>\n  </tbody>\n</table>\n</div>"
     },
     "metadata": {},
     "output_type": "display_data"
    },
    {
     "data": {
      "text/plain": "                 id  abl  accept  across  act  addict  afraid  age  ago   ah  \\\n0  9jbSytob9XRzwvB6  0.0     0.0     0.0  0.0     0.0     0.0  0.0  0.0  0.0   \n\n   ...  yea  yeah  year  yellow  yes  yesterday  yet   yo  young     youth  \n0  ...  0.0   0.0   0.0     0.0  0.0        0.0  0.0  0.0    0.0  0.150511  \n\n[1 rows x 1001 columns]",
      "text/html": "<div>\n<style scoped>\n    .dataframe tbody tr th:only-of-type {\n        vertical-align: middle;\n    }\n\n    .dataframe tbody tr th {\n        vertical-align: top;\n    }\n\n    .dataframe thead th {\n        text-align: right;\n    }\n</style>\n<table border=\"1\" class=\"dataframe\">\n  <thead>\n    <tr style=\"text-align: right;\">\n      <th></th>\n      <th>id</th>\n      <th>abl</th>\n      <th>accept</th>\n      <th>across</th>\n      <th>act</th>\n      <th>addict</th>\n      <th>afraid</th>\n      <th>age</th>\n      <th>ago</th>\n      <th>ah</th>\n      <th>...</th>\n      <th>yea</th>\n      <th>yeah</th>\n      <th>year</th>\n      <th>yellow</th>\n      <th>yes</th>\n      <th>yesterday</th>\n      <th>yet</th>\n      <th>yo</th>\n      <th>young</th>\n      <th>youth</th>\n    </tr>\n  </thead>\n  <tbody>\n    <tr>\n      <th>0</th>\n      <td>9jbSytob9XRzwvB6</td>\n      <td>0.0</td>\n      <td>0.0</td>\n      <td>0.0</td>\n      <td>0.0</td>\n      <td>0.0</td>\n      <td>0.0</td>\n      <td>0.0</td>\n      <td>0.0</td>\n      <td>0.0</td>\n      <td>...</td>\n      <td>0.0</td>\n      <td>0.0</td>\n      <td>0.0</td>\n      <td>0.0</td>\n      <td>0.0</td>\n      <td>0.0</td>\n      <td>0.0</td>\n      <td>0.0</td>\n      <td>0.0</td>\n      <td>0.150511</td>\n    </tr>\n  </tbody>\n</table>\n<p>1 rows × 1001 columns</p>\n</div>"
     },
     "metadata": {},
     "output_type": "display_data"
    },
    {
     "data": {
      "text/plain": "                 id         0         1         2         3         4  \\\n0  0LiOzxBZ1aPLlFsK  0.031109  0.018026  0.022785  0.028802 -0.026084   \n\n          5         6         7         8  ...       290       291       292  \\\n0 -0.006278  0.030599 -0.041043  0.036703  ... -0.025845  0.010468 -0.047819   \n\n       293       294       295       296       297     298       299  \n0  0.00562 -0.025106 -0.017939 -0.009981 -0.027846  0.0211 -0.020994  \n\n[1 rows x 301 columns]",
      "text/html": "<div>\n<style scoped>\n    .dataframe tbody tr th:only-of-type {\n        vertical-align: middle;\n    }\n\n    .dataframe tbody tr th {\n        vertical-align: top;\n    }\n\n    .dataframe thead th {\n        text-align: right;\n    }\n</style>\n<table border=\"1\" class=\"dataframe\">\n  <thead>\n    <tr style=\"text-align: right;\">\n      <th></th>\n      <th>id</th>\n      <th>0</th>\n      <th>1</th>\n      <th>2</th>\n      <th>3</th>\n      <th>4</th>\n      <th>5</th>\n      <th>6</th>\n      <th>7</th>\n      <th>8</th>\n      <th>...</th>\n      <th>290</th>\n      <th>291</th>\n      <th>292</th>\n      <th>293</th>\n      <th>294</th>\n      <th>295</th>\n      <th>296</th>\n      <th>297</th>\n      <th>298</th>\n      <th>299</th>\n    </tr>\n  </thead>\n  <tbody>\n    <tr>\n      <th>0</th>\n      <td>0LiOzxBZ1aPLlFsK</td>\n      <td>0.031109</td>\n      <td>0.018026</td>\n      <td>0.022785</td>\n      <td>0.028802</td>\n      <td>-0.026084</td>\n      <td>-0.006278</td>\n      <td>0.030599</td>\n      <td>-0.041043</td>\n      <td>0.036703</td>\n      <td>...</td>\n      <td>-0.025845</td>\n      <td>0.010468</td>\n      <td>-0.047819</td>\n      <td>0.00562</td>\n      <td>-0.025106</td>\n      <td>-0.017939</td>\n      <td>-0.009981</td>\n      <td>-0.027846</td>\n      <td>0.0211</td>\n      <td>-0.020994</td>\n    </tr>\n  </tbody>\n</table>\n<p>1 rows × 301 columns</p>\n</div>"
     },
     "metadata": {},
     "output_type": "display_data"
    },
    {
     "data": {
      "text/plain": "                 id         0         1         2       3         4         5  \\\n0  9jbSytob9XRzwvB6  0.009225  0.041393 -0.003659 -0.0305 -0.006346 -0.019719   \n\n          6         7         8  ...       758       759       760       761  \\\n0 -0.075958 -0.003737 -0.000486  ... -0.037228 -0.027013  0.029167  0.009537   \n\n        762       763       764       765       766       767  \n0 -0.010819  0.004054 -0.018671  0.012545  0.020696 -0.019794  \n\n[1 rows x 769 columns]",
      "text/html": "<div>\n<style scoped>\n    .dataframe tbody tr th:only-of-type {\n        vertical-align: middle;\n    }\n\n    .dataframe tbody tr th {\n        vertical-align: top;\n    }\n\n    .dataframe thead th {\n        text-align: right;\n    }\n</style>\n<table border=\"1\" class=\"dataframe\">\n  <thead>\n    <tr style=\"text-align: right;\">\n      <th></th>\n      <th>id</th>\n      <th>0</th>\n      <th>1</th>\n      <th>2</th>\n      <th>3</th>\n      <th>4</th>\n      <th>5</th>\n      <th>6</th>\n      <th>7</th>\n      <th>8</th>\n      <th>...</th>\n      <th>758</th>\n      <th>759</th>\n      <th>760</th>\n      <th>761</th>\n      <th>762</th>\n      <th>763</th>\n      <th>764</th>\n      <th>765</th>\n      <th>766</th>\n      <th>767</th>\n    </tr>\n  </thead>\n  <tbody>\n    <tr>\n      <th>0</th>\n      <td>9jbSytob9XRzwvB6</td>\n      <td>0.009225</td>\n      <td>0.041393</td>\n      <td>-0.003659</td>\n      <td>-0.0305</td>\n      <td>-0.006346</td>\n      <td>-0.019719</td>\n      <td>-0.075958</td>\n      <td>-0.003737</td>\n      <td>-0.000486</td>\n      <td>...</td>\n      <td>-0.037228</td>\n      <td>-0.027013</td>\n      <td>0.029167</td>\n      <td>0.009537</td>\n      <td>-0.010819</td>\n      <td>0.004054</td>\n      <td>-0.018671</td>\n      <td>0.012545</td>\n      <td>0.020696</td>\n      <td>-0.019794</td>\n    </tr>\n  </tbody>\n</table>\n<p>1 rows × 769 columns</p>\n</div>"
     },
     "metadata": {},
     "output_type": "display_data"
    }
   ],
   "source": [
    "display(info_df.iloc[1:2])\n",
    "display(genres_df.iloc[0:1])\n",
    "display(tfidf_df.iloc[0:1])\n",
    "display(word2vec_df.iloc[0:1])\n",
    "display(bert_df.iloc[0:1])"
   ]
  },
  {
   "cell_type": "markdown",
   "id": "9cae82fa",
   "metadata": {
    "pycharm": {
     "name": "#%% md\n"
    }
   },
   "source": [
    "In this first task, please implement a simple reusable(!) framework for text-based retrieval/similarity of music pieces (we will use the term “song” and “track” synonymously in the following). The input (query) is a song, more precisely its meta-data, i.e., artist and track name. The output of the system should be a list of songs that are similar to the query song. Throughout the practical part you will investigate various ways to define this similarity. For this first exercise, only consider textual representations of the song, in particular lyrics features (i.e., TF-IDF, word2vec, and BERT embeddings). Start with something simple (e.g., cosine similarity computed on TF-IDF vectors); and then add one additional variant (i.e., combination of song representation and similarity metric)."
   ]
  },
  {
   "cell_type": "code",
   "execution_count": 5,
   "id": "39743f83",
   "metadata": {
    "pycharm": {
     "name": "#%%\n"
    }
   },
   "outputs": [
    {
     "name": "stdout",
     "output_type": "stream",
     "text": [
      "calculating svd, takes some time\n"
     ]
    },
    {
     "name": "stderr",
     "output_type": "stream",
     "text": [
      "C:\\Users\\Vik\\AppData\\Local\\Temp\\ipykernel_7912\\904285265.py:22: FutureWarning: Support for multi-dimensional indexing (e.g. `obj[:, None]`) is deprecated and will be removed in a future version.  Convert to a numpy array before indexing instead.\n",
      "  tf_idf_small = np.concatenate((ids[:, None], tf_idf_small), axis=1) #concatenate the id column again\n"
     ]
    },
    {
     "name": "stdout",
     "output_type": "stream",
     "text": [
      "calculating svd, takes some time\n"
     ]
    },
    {
     "name": "stderr",
     "output_type": "stream",
     "text": [
      "C:\\Users\\Vik\\AppData\\Local\\Temp\\ipykernel_7912\\904285265.py:26: FutureWarning: Support for multi-dimensional indexing (e.g. `obj[:, None]`) is deprecated and will be removed in a future version.  Convert to a numpy array before indexing instead.\n",
      "  word2vec_small = np.concatenate((ids[:, None], word2vec_small), axis=1) #concatenate the id column again\n"
     ]
    },
    {
     "name": "stdout",
     "output_type": "stream",
     "text": [
      "calculating svd, takes some time\n"
     ]
    },
    {
     "name": "stderr",
     "output_type": "stream",
     "text": [
      "C:\\Users\\Vik\\AppData\\Local\\Temp\\ipykernel_7912\\904285265.py:30: FutureWarning: Support for multi-dimensional indexing (e.g. `obj[:, None]`) is deprecated and will be removed in a future version.  Convert to a numpy array before indexing instead.\n",
      "  bert_small = np.concatenate((ids[:, None], bert_small), axis=1) #concatenate the id column again\n"
     ]
    }
   ],
   "source": [
    "from scipy import sparse\n",
    "\n",
    "\n",
    "# I imported my LSA solution from another notebook. For our case we do not need the u and sigma_inv.\n",
    "\n",
    "def LSA(matrix, k):\n",
    "    # calculate the svd\n",
    "    print(\"calculating svd, takes some time\")\n",
    "    u, s, vt = sparse.linalg.svds(matrix, k=k)\n",
    "    # create m x k matrix\n",
    "    s = np.diag(s)\n",
    "\n",
    "    return u, np.linalg.inv(s), vt.T\n",
    "\n",
    "\n",
    "def inference(matrix, u, sigma_inv):\n",
    "    return (sigma_inv @ u.T @ matrix.T).T\n",
    "\n",
    "\n",
    "ids = tfidf_df['id']\n",
    "u, sigma_inv_1, tf_idf_small = LSA(tfidf_array[:, 1:].astype(np.float32).T, 10)\n",
    "tf_idf_small = np.concatenate((ids[:, None], tf_idf_small), axis=1) #concatenate the id column again\n",
    "\n",
    "ids = word2vec_df['id']\n",
    "u, sigma_inv_1, word2vec_small = LSA(word2vec_array[:, 1:].astype(np.float32).T, 10)\n",
    "word2vec_small = np.concatenate((ids[:, None], word2vec_small), axis=1) #concatenate the id column again\n",
    "\n",
    "ids = bert_df['id']\n",
    "u, sigma_inv_1, bert_small = LSA(bert_array[:, 1:].astype(np.float32).T, 10)\n",
    "bert_small = np.concatenate((ids[:, None], bert_small), axis=1) #concatenate the id column again"
   ]
  },
  {
   "cell_type": "code",
   "execution_count": 6,
   "id": "33852f9c",
   "metadata": {
    "pycharm": {
     "name": "#%%\n"
    }
   },
   "outputs": [],
   "source": [
    "def filter_df(df, **args):\n",
    "    if not args:\n",
    "        raise AttributeError(\"**args required\")\n",
    "    query = ''\n",
    "    for k, v in args.items():\n",
    "        query += f\"{k}=='{v}' and \"\n",
    "    query = query[:-5]  # Removing the last 'and' of our query\n",
    "    return df.query(query)"
   ]
  },
  {
   "cell_type": "code",
   "execution_count": 7,
   "id": "08218bd9",
   "metadata": {
    "pycharm": {
     "name": "#%%\n"
    }
   },
   "outputs": [],
   "source": [
    "example_artist = \"Cheryl\"\n",
    "example_song = \"Rain on Me\"\n",
    "example_embedding_df = bert_df\n",
    "example_embedding_array = bert_array"
   ]
  },
  {
   "cell_type": "code",
   "execution_count": 8,
   "id": "1e7181cb",
   "metadata": {
    "pycharm": {
     "name": "#%%\n"
    }
   },
   "outputs": [
    {
     "name": "stdout",
     "output_type": "stream",
     "text": [
      "example_song found by artist='Cheryl' and song='Rain on Me' --> id='0009fFIM1eYThaPg'\n",
      "avg_similarity (all songs): 0.3988439414994516\n",
      "similarities (within example_artist):\n",
      " [[1.        ]\n",
      " [0.45588829]\n",
      " [0.415266  ]\n",
      " [0.56247426]\n",
      " [0.52213525]\n",
      " [0.54025452]\n",
      " [0.58719805]\n",
      " [0.51434849]\n",
      " [0.48975459]\n",
      " [0.50849349]\n",
      " [0.40145441]\n",
      " [0.48441612]\n",
      " [0.45773557]\n",
      " [0.49066422]]\n"
     ]
    }
   ],
   "source": [
    "example_id = filter_df(info_df, artist=example_artist, song=example_song).to_numpy()[0, 0]\n",
    "print(f\"example_song found by artist='{example_artist}' and song='{example_song}' --> id='{example_id}'\")\n",
    "example_Y = filter_df(example_embedding_df, id=example_id).to_numpy().reshape(1, -1)\n",
    "cs = cosine_similarity(X=example_embedding_array[:, 1:], Y=example_Y[:, 1:])\n",
    "print(\"avg_similarity (all songs):\", np.mean(cs))\n",
    "example_X = filter_df(info_df.merge(example_embedding_df), artist=example_artist).to_numpy()[:, 3:]\n",
    "cs = cosine_similarity(X=example_X[:, 1:], Y=example_Y[:, 1:])\n",
    "print(\"similarities (within example_artist):\\n\", cs)"
   ]
  },
  {
   "cell_type": "code",
   "execution_count": 9,
   "id": "a33136dd",
   "metadata": {
    "pycharm": {
     "name": "#%%\n"
    }
   },
   "outputs": [],
   "source": [
    "# usage: \n",
    "#   1. get query song id by using \"filter_df\" on merged info_df & embedding_df (filter by artist & song)\n",
    "#   2. call top_k_similar with song id from step 1 \n",
    "\n",
    "def top_k_similar(id, embedding_array, k=None, similarity_measure=cosine_similarity):\n",
    "    \"\"\"\n",
    "    Return top k similar songs and their scores given an embedding and similarity meassure\n",
    "    :param  id: song id\n",
    "            embedding_array: embedding array to base similarities on\n",
    "            k: the number of most similar songs to return\n",
    "            similarity_measure: a function which returns the pairwise similarity of data points\n",
    "    :return: list of top k songs and their scores\n",
    "    \"\"\"\n",
    "    Y = embedding_array[embedding_array[:, 0] == id].reshape(1, -1)[:, 1:]\n",
    "    if Y.shape == (1, 0):\n",
    "        return None\n",
    "    similarities = similarity_measure(X=embedding_array[:, 1:],\n",
    "                                      Y=Y).reshape(-1)\n",
    "    most_similar = [[this_id, this_sim] for this_sim, this_id in sorted(zip(similarities, embedding_array[:, 0]))][::-1]\n",
    "    if k is None:\n",
    "        return most_similar[1:]\n",
    "    return most_similar[1:k + 1] "
   ]
  },
  {
   "cell_type": "code",
   "execution_count": 10,
   "id": "7cb2e7e4",
   "metadata": {
    "pycharm": {
     "name": "#%%\n"
    }
   },
   "outputs": [],
   "source": [
    "similar = top_k_similar(example_id, tf_idf_small, k=10, similarity_measure=cosine_similarity)"
   ]
  },
  {
   "cell_type": "code",
   "execution_count": 11,
   "id": "ddb356ba",
   "metadata": {
    "pycharm": {
     "name": "#%%\n"
    }
   },
   "outputs": [],
   "source": [
    "def get_genre(song_id_):\n",
    "    genre = genres_df[genres_df.id == song_id_][\"genre\"].values\n",
    "    return genre"
   ]
  },
  {
   "cell_type": "code",
   "execution_count": 12,
   "id": "5af5d015",
   "metadata": {
    "pycharm": {
     "name": "#%%\n"
    }
   },
   "outputs": [],
   "source": [
    "import ast\n",
    "\n",
    "\n",
    "def get_result_genre(song_ids_):\n",
    "    \"\"\"\n",
    "    Converts the list of ids to a usable result dataframe\n",
    "\n",
    "    :param song_ids_: list of ids\n",
    "    :return: dataframe with query_genre and similar_genres\n",
    "    \"\"\"\n",
    "    df = pd.DataFrame()\n",
    "    df[\"similar\"] = song_ids_\n",
    "    df[\"query_id\"] = [example_id for _ in range(len(df))]\n",
    "    df[\"query_genre\"] = df.query_id.apply(lambda x: ast.literal_eval(get_genre(x)[0])[0])\n",
    "    df[\"similar_genre\"] = df.similar.apply(lambda x: ast.literal_eval(get_genre(x)[0]))\n",
    "    # Calculate if the genre is in the query genre\n",
    "    df[\"similar_genre_value\"] = df[[\"query_genre\", \"similar_genre\"]].apply(\n",
    "        lambda x: 1 if x[\"query_genre\"] in x[\"similar_genre\"] else 0,\n",
    "        axis=1)\n",
    "    df.drop([\"similar\", \"query_id\"], axis=1, inplace=True)\n",
    "    df[\"query_genre_value\"] = [0 for _ in range(len(df))]\n",
    "    return df"
   ]
  },
  {
   "cell_type": "code",
   "execution_count": 13,
   "id": "bda4bf93",
   "metadata": {
    "pycharm": {
     "name": "#%%\n"
    }
   },
   "outputs": [],
   "source": [
    "def mean_reciprocal_rank(result_df, relevant_col=\"similar_genre\"):\n",
    "    \"\"\"\n",
    "    Calculates the mean reciprocal rank of the result dataframe\n",
    "\n",
    "    :param result_df: dataframe with query_genre and similar_genres\n",
    "    :return: mean reciprocal rank\n",
    "    \"\"\"\n",
    "    sum = 0\n",
    "    for i, row in result_df.iterrows():\n",
    "        counter = 0\n",
    "        for genre in row[relevant_col]:\n",
    "            counter += 1\n",
    "            if row[\"query_genre\"] == genre:\n",
    "                sum += 1 / counter\n",
    "                break\n",
    "\n",
    "    return sum / len(result_df)"
   ]
  },
  {
   "cell_type": "code",
   "execution_count": 14,
   "id": "ee9d2b7b",
   "metadata": {
    "pycharm": {
     "name": "#%%\n"
    }
   },
   "outputs": [],
   "source": [
    "def precision(df, relevant_col=\"similar_genre_value\"):\n",
    "    \"\"\"\n",
    "    Calculates the r-precision of the result dataframe\n",
    "\n",
    "    :param df: dataframe with query_genre and similar_genres\n",
    "    \"\"\"\n",
    "    return df[relevant_col].sum() / len(df)"
   ]
  },
  {
   "cell_type": "code",
   "execution_count": 15,
   "id": "a3d1fd50",
   "metadata": {
    "pycharm": {
     "name": "#%%\n"
    }
   },
   "outputs": [],
   "source": [
    "# define ndcg function\n",
    "def ndcg(result_df, relevant_col=\"similar_genre_value\"):\n",
    "    \"\"\"\n",
    "    Calculates the ndcg score for a given result vector\n",
    "\n",
    "    :param result_vector: vector of results\n",
    "    :return: ndcg score\n",
    "    \"\"\"\n",
    "    # Calculate the dcg\n",
    "    dcg = 0\n",
    "    for i in range(len(result_df)):\n",
    "        dcg += result_df[relevant_col][i] / np.log2(i + 2)\n",
    "\n",
    "    # Calculate the idcg\n",
    "    idcg = 0\n",
    "    for i in range(len(result_df)):\n",
    "        idcg += 1 / np.log2(i + 2)\n",
    "    return dcg / idcg\n"
   ]
  },
  {
   "cell_type": "code",
   "execution_count": 16,
   "id": "1875a52b",
   "metadata": {
    "pycharm": {
     "name": "#%%\n"
    }
   },
   "outputs": [
    {
     "name": "stdout",
     "output_type": "stream",
     "text": [
      "precision: 0.5\n",
      "mrr: 0.20416666666666666\n",
      "ndcg: 0.5868924718493931\n"
     ]
    }
   ],
   "source": [
    "similar_id = list(next(zip(*similar)))\n",
    "\n",
    "result = get_result_genre(similar_id)\n",
    "\n",
    "print(\"precision:\", precision(result))\n",
    "print(\"mrr:\", mean_reciprocal_rank(result))\n",
    "print(\"ndcg:\", ndcg(result))"
   ]
  },
  {
   "cell_type": "markdown",
   "id": "ce5d0a25",
   "metadata": {
    "pycharm": {
     "name": "#%% md\n"
    }
   },
   "source": [
    "# Evaulation Framework"
   ]
  },
  {
   "cell_type": "code",
   "execution_count": 17,
   "id": "887687c0",
   "metadata": {
    "pycharm": {
     "name": "#%%\n"
    }
   },
   "outputs": [],
   "source": [
    "# Because running all those functions is tedious we add a framework\n",
    "\n",
    "import time\n",
    "\n",
    "def recommender(artist=None, song=None, example_id=None, embedding_array=tf_idf_small, k=10,\n",
    "                similarity_measure=cosine_similarity,\n",
    "                only_stat=False):\n",
    "    \"\"\"\n",
    "    Framework to run the recommender system\n",
    "\n",
    "    :param example_artist: artist of the query song\n",
    "    :param example_song: song of the query song\n",
    "    :param k: number of similar songs\n",
    "    :param similarity_measure: similarity measure to use\n",
    "    :return: result dataframe\n",
    "    \"\"\"\n",
    "    # Filter the dataframe to get the song id\n",
    "    if example_id is None:\n",
    "        example_id = filter_df(info_df, artist=artist, song=song).to_numpy()[0, 0]\n",
    "    # Get the top k similar songs\n",
    "    similar_k = top_k_similar(example_id, embedding_array, k=k, similarity_measure=similarity_measure)\n",
    "\n",
    "    # IF the song is not in the embedding array return None\n",
    "    if similar_k == None:\n",
    "        return [0, 0, 0]\n",
    "    similar_id = list(next(zip(*similar_k)))\n",
    "    # Get the result dataframe\n",
    "    result = get_result_genre(similar_id)\n",
    "\n",
    "    if only_stat == True:\n",
    "        return np.array([precision(result), mean_reciprocal_rank(result), ndcg(result)])\n",
    "\n",
    "    stat = {\"precision\": precision(result),\n",
    "            \"mrr\": mean_reciprocal_rank(result),\n",
    "            \"ndcg\": ndcg(result)}\n",
    "\n",
    "    return result, stat, similar_id\n"
   ]
  },
  {
   "cell_type": "code",
   "execution_count": 18,
   "id": "ae20dacd",
   "metadata": {
    "pycharm": {
     "name": "#%%\n"
    }
   },
   "outputs": [
    {
     "name": "stdout",
     "output_type": "stream",
     "text": [
      "{'precision': 0.6, 'mrr': 0.3142857142857143, 'ndcg': 0.5501126236272343}\n"
     ]
    },
    {
     "data": {
      "text/plain": "                     id              artist                              song  \\\n3155   2Tud1sKdzCfsgNuO                 AFI                     Hidden Knives   \n6371   54aJymX23XS3azJ3              Madeon                            Beings   \n6397   569DDnQOSEyuJug9            Coldplay                           Trouble   \n25408  KgU8jEngGmoWL33H      Blonde Redhead  Hated Because of Great Qualities   \n33332  R5kPPdlImSImgJXZ      Kelly Clarkson      I Hate Myself for Losing You   \n45785  bML5G3n9zcOK3V35           Glee Cast                    Sweet Caroline   \n47053  cNylkOoSfpQ0Nnax    Townes Van Zandt          For The Sake of The Song   \n57037  kVMIjrvZHp021nv1  The Rolling Stones                     The Last Time   \n69104  uIwvTI9FgpVE5jMZ         Girls Aloud                100 Different Ways   \n71771  wS29hpE8uaEO3y3t         Beach House                      Wedding Bell   \n\n                                            album_name  \n3155                             AFI (The Blood Album)  \n6371                                Adventure (Deluxe)  \n6397                                        Parachutes  \n25408                 Melody of Certain Damaged Lemons  \n33332                                        Breakaway  \n45785                        Glee: The Music, Volume 1  \n47053                                 Townes Van Zandt  \n57037                                 Out Of Our Heads  \n69104  The Collection - Studio Albums / B Sides / Live  \n71771                                         Devotion  ",
      "text/html": "<div>\n<style scoped>\n    .dataframe tbody tr th:only-of-type {\n        vertical-align: middle;\n    }\n\n    .dataframe tbody tr th {\n        vertical-align: top;\n    }\n\n    .dataframe thead th {\n        text-align: right;\n    }\n</style>\n<table border=\"1\" class=\"dataframe\">\n  <thead>\n    <tr style=\"text-align: right;\">\n      <th></th>\n      <th>id</th>\n      <th>artist</th>\n      <th>song</th>\n      <th>album_name</th>\n    </tr>\n  </thead>\n  <tbody>\n    <tr>\n      <th>3155</th>\n      <td>2Tud1sKdzCfsgNuO</td>\n      <td>AFI</td>\n      <td>Hidden Knives</td>\n      <td>AFI (The Blood Album)</td>\n    </tr>\n    <tr>\n      <th>6371</th>\n      <td>54aJymX23XS3azJ3</td>\n      <td>Madeon</td>\n      <td>Beings</td>\n      <td>Adventure (Deluxe)</td>\n    </tr>\n    <tr>\n      <th>6397</th>\n      <td>569DDnQOSEyuJug9</td>\n      <td>Coldplay</td>\n      <td>Trouble</td>\n      <td>Parachutes</td>\n    </tr>\n    <tr>\n      <th>25408</th>\n      <td>KgU8jEngGmoWL33H</td>\n      <td>Blonde Redhead</td>\n      <td>Hated Because of Great Qualities</td>\n      <td>Melody of Certain Damaged Lemons</td>\n    </tr>\n    <tr>\n      <th>33332</th>\n      <td>R5kPPdlImSImgJXZ</td>\n      <td>Kelly Clarkson</td>\n      <td>I Hate Myself for Losing You</td>\n      <td>Breakaway</td>\n    </tr>\n    <tr>\n      <th>45785</th>\n      <td>bML5G3n9zcOK3V35</td>\n      <td>Glee Cast</td>\n      <td>Sweet Caroline</td>\n      <td>Glee: The Music, Volume 1</td>\n    </tr>\n    <tr>\n      <th>47053</th>\n      <td>cNylkOoSfpQ0Nnax</td>\n      <td>Townes Van Zandt</td>\n      <td>For The Sake of The Song</td>\n      <td>Townes Van Zandt</td>\n    </tr>\n    <tr>\n      <th>57037</th>\n      <td>kVMIjrvZHp021nv1</td>\n      <td>The Rolling Stones</td>\n      <td>The Last Time</td>\n      <td>Out Of Our Heads</td>\n    </tr>\n    <tr>\n      <th>69104</th>\n      <td>uIwvTI9FgpVE5jMZ</td>\n      <td>Girls Aloud</td>\n      <td>100 Different Ways</td>\n      <td>The Collection - Studio Albums / B Sides / Live</td>\n    </tr>\n    <tr>\n      <th>71771</th>\n      <td>wS29hpE8uaEO3y3t</td>\n      <td>Beach House</td>\n      <td>Wedding Bell</td>\n      <td>Devotion</td>\n    </tr>\n  </tbody>\n</table>\n</div>"
     },
     "metadata": {},
     "output_type": "display_data"
    }
   ],
   "source": [
    "\n",
    "result, stat, similar_id = recommender(\"Elton John\", \"Nikita\", k=10, similarity_measure=cosine_similarity)\n",
    "print(stat)\n",
    "display(info_df.where(info_df.id.isin(similar_id)).dropna())"
   ]
  },
  {
   "cell_type": "markdown",
   "id": "97982ef2",
   "metadata": {
    "pycharm": {
     "name": "#%% md\n"
    }
   },
   "source": [
    "I am using a breakpoint as \"training set\". Our evaluation framework seems to have an okay score :)."
   ]
  },
  {
   "cell_type": "code",
   "execution_count": 19,
   "id": "f5900a95",
   "metadata": {
    "pycharm": {
     "name": "#%%\n"
    }
   },
   "outputs": [],
   "source": [
    "def recommender_evaluation_framework(embedding_array=tf_idf_small, k=10, similarity_measure=cosine_similarity, breakpoint=False):\n",
    "    \"\"\"\n",
    "    Framework to evaluate the recommender system\n",
    "\n",
    "    :param k: number of similar songs\n",
    "    :param similarity_measure: similarity measure to use\n",
    "    :return: result dataframe\n",
    "    \"\"\"\n",
    "    stat = [0, 0, 0]\n",
    "    for index, row in tqdm(info_df.iterrows(), total=len(info_df)):\n",
    "        stat += recommender(example_id=row[\"id\"], embedding_array=embedding_array, k=k, similarity_measure=similarity_measure, only_stat=True)\n",
    "        if index == breakpoint:\n",
    "            return stat / breakpoint\n",
    "\n",
    "    return sum(stat) / len(info_df)"
   ]
  },
  {
   "cell_type": "code",
   "execution_count": 22,
   "id": "73c556b0",
   "metadata": {
    "pycharm": {
     "name": "#%%\n"
    }
   },
   "outputs": [
    {
     "name": "stderr",
     "output_type": "stream",
     "text": [
      "  0%|          | 300/76115 [01:10<4:55:47,  4.27it/s]\n",
      "  0%|          | 300/76115 [01:09<4:53:06,  4.31it/s]\n",
      "  0%|          | 300/76115 [01:09<4:54:40,  4.29it/s]\n",
      "  0%|          | 300/76115 [01:07<4:45:51,  4.42it/s]\n",
      "  0%|          | 300/76115 [01:09<4:54:04,  4.30it/s]\n",
      "  0%|          | 300/76115 [01:08<4:50:36,  4.35it/s]\n"
     ]
    },
    {
     "data": {
      "text/plain": "        embedding    smilarity_measure  precision       mmr      ndcg\n0    tf_idf_small    cosine_similarity   0.416000  0.217260  0.421290\n1    tf_idf_small  manhattan_distances   0.550667  0.276557  0.552038\n2  word2vec_small    cosine_similarity   0.446667  0.239571  0.455310\n3  word2vec_small  manhattan_distances   0.397667  0.099297  0.411521\n4      bert_small    cosine_similarity   0.447000  0.244816  0.452620\n5      bert_small  manhattan_distances   0.232333  0.142178  0.220981",
      "text/html": "<div>\n<style scoped>\n    .dataframe tbody tr th:only-of-type {\n        vertical-align: middle;\n    }\n\n    .dataframe tbody tr th {\n        vertical-align: top;\n    }\n\n    .dataframe thead th {\n        text-align: right;\n    }\n</style>\n<table border=\"1\" class=\"dataframe\">\n  <thead>\n    <tr style=\"text-align: right;\">\n      <th></th>\n      <th>embedding</th>\n      <th>smilarity_measure</th>\n      <th>precision</th>\n      <th>mmr</th>\n      <th>ndcg</th>\n    </tr>\n  </thead>\n  <tbody>\n    <tr>\n      <th>0</th>\n      <td>tf_idf_small</td>\n      <td>cosine_similarity</td>\n      <td>0.416000</td>\n      <td>0.217260</td>\n      <td>0.421290</td>\n    </tr>\n    <tr>\n      <th>1</th>\n      <td>tf_idf_small</td>\n      <td>manhattan_distances</td>\n      <td>0.550667</td>\n      <td>0.276557</td>\n      <td>0.552038</td>\n    </tr>\n    <tr>\n      <th>2</th>\n      <td>word2vec_small</td>\n      <td>cosine_similarity</td>\n      <td>0.446667</td>\n      <td>0.239571</td>\n      <td>0.455310</td>\n    </tr>\n    <tr>\n      <th>3</th>\n      <td>word2vec_small</td>\n      <td>manhattan_distances</td>\n      <td>0.397667</td>\n      <td>0.099297</td>\n      <td>0.411521</td>\n    </tr>\n    <tr>\n      <th>4</th>\n      <td>bert_small</td>\n      <td>cosine_similarity</td>\n      <td>0.447000</td>\n      <td>0.244816</td>\n      <td>0.452620</td>\n    </tr>\n    <tr>\n      <th>5</th>\n      <td>bert_small</td>\n      <td>manhattan_distances</td>\n      <td>0.232333</td>\n      <td>0.142178</td>\n      <td>0.220981</td>\n    </tr>\n  </tbody>\n</table>\n</div>"
     },
     "metadata": {},
     "output_type": "display_data"
    }
   ],
   "source": [
    "embedding_arrays = {\n",
    "    \"tf_idf_small\": tf_idf_small,\n",
    "    \"word2vec_small\": word2vec_small,\n",
    "    \"bert_small\": bert_small\n",
    "}\n",
    "\n",
    "similarity_measures = {\n",
    "    \"cosine_similarity\": cosine_similarity,\n",
    "    \"manhattan_distances\": manhattan_distances,\n",
    "}\n",
    "\n",
    "result = []\n",
    "for embedding_array_name in embedding_arrays.keys():\n",
    "    for similarity_measure_name in similarity_measures.keys():\n",
    "        stat = [embedding_array_name, similarity_measure_name]\n",
    "        stat.extend(recommender_evaluation_framework(embedding_array=embedding_arrays[embedding_array_name],\n",
    "                                                        k=10,\n",
    "                                                        similarity_measure=similarity_measures[similarity_measure_name],\n",
    "                                                        breakpoint=300))\n",
    "        result.append(stat)\n",
    "result = pd.DataFrame(data=result, columns=[\"embedding\", \"smilarity_measure\", \"precision\", \"mmr\", \"ndcg\"])\n",
    "display(result)"
   ]
  },
  {
   "cell_type": "code",
   "execution_count": 23,
   "outputs": [
    {
     "name": "stderr",
     "output_type": "stream",
     "text": [
      "  0%|          | 300/76115 [04:47<20:10:21,  1.04it/s]\n",
      "  0%|          | 300/76115 [04:42<19:50:30,  1.06it/s]\n",
      "  0%|          | 300/76115 [04:42<19:50:17,  1.06it/s]\n",
      "  0%|          | 300/76115 [04:41<19:47:42,  1.06it/s]\n",
      "  0%|          | 300/76115 [04:42<19:50:57,  1.06it/s]\n",
      "  0%|          | 300/76115 [04:41<19:44:57,  1.07it/s]\n"
     ]
    },
    {
     "data": {
      "text/plain": "        embedding    smilarity_measure  precision       mmr      ndcg\n0    tf_idf_small    cosine_similarity   0.410200  0.214980  0.410861\n1    tf_idf_small  manhattan_distances   0.614500  0.347977  0.601449\n2  word2vec_small    cosine_similarity   0.426867  0.230146  0.430330\n3  word2vec_small  manhattan_distances   0.439167  0.187436  0.428085\n4      bert_small    cosine_similarity   0.428133  0.231117  0.431133\n5      bert_small  manhattan_distances   0.262433  0.146887  0.255400",
      "text/html": "<div>\n<style scoped>\n    .dataframe tbody tr th:only-of-type {\n        vertical-align: middle;\n    }\n\n    .dataframe tbody tr th {\n        vertical-align: top;\n    }\n\n    .dataframe thead th {\n        text-align: right;\n    }\n</style>\n<table border=\"1\" class=\"dataframe\">\n  <thead>\n    <tr style=\"text-align: right;\">\n      <th></th>\n      <th>embedding</th>\n      <th>smilarity_measure</th>\n      <th>precision</th>\n      <th>mmr</th>\n      <th>ndcg</th>\n    </tr>\n  </thead>\n  <tbody>\n    <tr>\n      <th>0</th>\n      <td>tf_idf_small</td>\n      <td>cosine_similarity</td>\n      <td>0.410200</td>\n      <td>0.214980</td>\n      <td>0.410861</td>\n    </tr>\n    <tr>\n      <th>1</th>\n      <td>tf_idf_small</td>\n      <td>manhattan_distances</td>\n      <td>0.614500</td>\n      <td>0.347977</td>\n      <td>0.601449</td>\n    </tr>\n    <tr>\n      <th>2</th>\n      <td>word2vec_small</td>\n      <td>cosine_similarity</td>\n      <td>0.426867</td>\n      <td>0.230146</td>\n      <td>0.430330</td>\n    </tr>\n    <tr>\n      <th>3</th>\n      <td>word2vec_small</td>\n      <td>manhattan_distances</td>\n      <td>0.439167</td>\n      <td>0.187436</td>\n      <td>0.428085</td>\n    </tr>\n    <tr>\n      <th>4</th>\n      <td>bert_small</td>\n      <td>cosine_similarity</td>\n      <td>0.428133</td>\n      <td>0.231117</td>\n      <td>0.431133</td>\n    </tr>\n    <tr>\n      <th>5</th>\n      <td>bert_small</td>\n      <td>manhattan_distances</td>\n      <td>0.262433</td>\n      <td>0.146887</td>\n      <td>0.255400</td>\n    </tr>\n  </tbody>\n</table>\n</div>"
     },
     "metadata": {},
     "output_type": "display_data"
    }
   ],
   "source": [
    "result = []\n",
    "for embedding_array_name in embedding_arrays.keys():\n",
    "    for similarity_measure_name in similarity_measures.keys():\n",
    "        stat = [embedding_array_name, similarity_measure_name]\n",
    "        stat.extend(recommender_evaluation_framework(embedding_array=embedding_arrays[embedding_array_name],\n",
    "                                                     k=100,\n",
    "                                                     similarity_measure=similarity_measures[similarity_measure_name],\n",
    "                                                     breakpoint=300))\n",
    "        result.append(stat)\n",
    "result = pd.DataFrame(data=result, columns=[\"embedding\", \"smilarity_measure\", \"precision\", \"mmr\", \"ndcg\"])\n",
    "display(result)"
   ],
   "metadata": {
    "collapsed": false,
    "pycharm": {
     "name": "#%%\n"
    }
   }
  }
 ],
 "metadata": {
  "kernelspec": {
   "display_name": "Python 3 (ipykernel)",
   "language": "python",
   "name": "python3"
  },
  "language_info": {
   "codemirror_mode": {
    "name": "ipython",
    "version": 3
   },
   "file_extension": ".py",
   "mimetype": "text/x-python",
   "name": "python",
   "nbconvert_exporter": "python",
   "pygments_lexer": "ipython3",
   "version": "3.8.13"
  }
 },
 "nbformat": 4,
 "nbformat_minor": 5
}